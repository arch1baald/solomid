{
 "cells": [
  {
   "cell_type": "code",
   "execution_count": 5,
   "metadata": {},
   "outputs": [],
   "source": [
    "import pandas as pd\n",
    "\n",
    "with open('og-liquid-map-3-tiny-damage.csv', 'r') as csv_file:\n",
    "    df_damage = pd.read_csv(csv_file)"
   ]
  },
  {
   "cell_type": "code",
   "execution_count": 6,
   "metadata": {},
   "outputs": [
    {
     "data": {
      "text/html": [
       "<div>\n",
       "<style scoped>\n",
       "    .dataframe tbody tr th:only-of-type {\n",
       "        vertical-align: middle;\n",
       "    }\n",
       "\n",
       "    .dataframe tbody tr th {\n",
       "        vertical-align: top;\n",
       "    }\n",
       "\n",
       "    .dataframe thead th {\n",
       "        text-align: right;\n",
       "    }\n",
       "</style>\n",
       "<table border=\"1\" class=\"dataframe\">\n",
       "  <thead>\n",
       "    <tr style=\"text-align: right;\">\n",
       "      <th></th>\n",
       "      <th>timestamp</th>\n",
       "      <th>minute</th>\n",
       "      <th>source</th>\n",
       "      <th>target</th>\n",
       "      <th>inflictor</th>\n",
       "      <th>value</th>\n",
       "    </tr>\n",
       "  </thead>\n",
       "  <tbody>\n",
       "    <tr>\n",
       "      <th>0</th>\n",
       "      <td>42</td>\n",
       "      <td>0.0</td>\n",
       "      <td>npc_dota_hero_tiny</td>\n",
       "      <td>npc_dota_hero_juggernaut</td>\n",
       "      <td>tiny_toss</td>\n",
       "      <td>67</td>\n",
       "    </tr>\n",
       "    <tr>\n",
       "      <th>1</th>\n",
       "      <td>42</td>\n",
       "      <td>0.0</td>\n",
       "      <td>npc_dota_hero_tiny</td>\n",
       "      <td>npc_dota_hero_ogre_magi</td>\n",
       "      <td>tiny_toss</td>\n",
       "      <td>87</td>\n",
       "    </tr>\n",
       "    <tr>\n",
       "      <th>2</th>\n",
       "      <td>99</td>\n",
       "      <td>1.0</td>\n",
       "      <td>npc_dota_hero_tiny</td>\n",
       "      <td>npc_dota_hero_ogre_magi</td>\n",
       "      <td>attack</td>\n",
       "      <td>38</td>\n",
       "    </tr>\n",
       "    <tr>\n",
       "      <th>3</th>\n",
       "      <td>101</td>\n",
       "      <td>1.0</td>\n",
       "      <td>npc_dota_hero_tiny</td>\n",
       "      <td>npc_dota_hero_ogre_magi</td>\n",
       "      <td>tiny_toss</td>\n",
       "      <td>87</td>\n",
       "    </tr>\n",
       "    <tr>\n",
       "      <th>4</th>\n",
       "      <td>101</td>\n",
       "      <td>1.0</td>\n",
       "      <td>npc_dota_hero_tiny</td>\n",
       "      <td>npc_dota_hero_ogre_magi</td>\n",
       "      <td>attack</td>\n",
       "      <td>50</td>\n",
       "    </tr>\n",
       "  </tbody>\n",
       "</table>\n",
       "</div>"
      ],
      "text/plain": [
       "   timestamp  minute              source                    target  inflictor  \\\n",
       "0         42     0.0  npc_dota_hero_tiny  npc_dota_hero_juggernaut  tiny_toss   \n",
       "1         42     0.0  npc_dota_hero_tiny   npc_dota_hero_ogre_magi  tiny_toss   \n",
       "2         99     1.0  npc_dota_hero_tiny   npc_dota_hero_ogre_magi     attack   \n",
       "3        101     1.0  npc_dota_hero_tiny   npc_dota_hero_ogre_magi  tiny_toss   \n",
       "4        101     1.0  npc_dota_hero_tiny   npc_dota_hero_ogre_magi     attack   \n",
       "\n",
       "   value  \n",
       "0     67  \n",
       "1     87  \n",
       "2     38  \n",
       "3     87  \n",
       "4     50  "
      ]
     },
     "execution_count": 6,
     "metadata": {},
     "output_type": "execute_result"
    }
   ],
   "source": [
    "df_damage.head()"
   ]
  },
  {
   "cell_type": "code",
   "execution_count": 8,
   "metadata": {},
   "outputs": [
    {
     "data": {
      "text/plain": [
       "13013"
      ]
     },
     "execution_count": 8,
     "metadata": {},
     "output_type": "execute_result"
    }
   ],
   "source": [
    "df_damage['value'].sum()"
   ]
  },
  {
   "cell_type": "code",
   "execution_count": 40,
   "metadata": {},
   "outputs": [
    {
     "data": {
      "text/plain": [
       "<matplotlib.axes._subplots.AxesSubplot at 0x11448c2b0>"
      ]
     },
     "execution_count": 40,
     "metadata": {},
     "output_type": "execute_result"
    },
    {
     "data": {
      "image/png": "[encoded data removed]",
      "text/plain": [
       "<Figure size 432x288 with 1 Axes>"
      ]
     },
     "metadata": {
      "needs_background": "light"
     },
     "output_type": "display_data"
    }
   ],
   "source": [
    "import matplotlib.pyplot as plt\n",
    "\n",
    "df_damage['total_damage_done'] = df_damage['value'].cumsum()\n",
    "df_damage.plot(\n",
    "    kind='line', \n",
    "    x='minute', \n",
    "    y='total_damage_done', \n",
    "    title='OG vs. Liqud, Map 3, Damage Done to Liquid by OG.JerAx as Tiny'\n",
    ")"
   ]
  },
  {
   "cell_type": "code",
   "execution_count": 27,
   "metadata": {},
   "outputs": [
    {
     "data": {
      "text/html": [
       "<div>\n",
       "<style scoped>\n",
       "    .dataframe tbody tr th:only-of-type {\n",
       "        vertical-align: middle;\n",
       "    }\n",
       "\n",
       "    .dataframe tbody tr th {\n",
       "        vertical-align: top;\n",
       "    }\n",
       "\n",
       "    .dataframe thead th {\n",
       "        text-align: right;\n",
       "    }\n",
       "</style>\n",
       "<table border=\"1\" class=\"dataframe\">\n",
       "  <thead>\n",
       "    <tr style=\"text-align: right;\">\n",
       "      <th></th>\n",
       "      <th>value</th>\n",
       "    </tr>\n",
       "    <tr>\n",
       "      <th>inflictor</th>\n",
       "      <th></th>\n",
       "    </tr>\n",
       "  </thead>\n",
       "  <tbody>\n",
       "    <tr>\n",
       "      <th>attack</th>\n",
       "      <td>1392</td>\n",
       "    </tr>\n",
       "    <tr>\n",
       "      <th>tiny_avalanche</th>\n",
       "      <td>6120</td>\n",
       "    </tr>\n",
       "    <tr>\n",
       "      <th>tiny_toss</th>\n",
       "      <td>5393</td>\n",
       "    </tr>\n",
       "    <tr>\n",
       "      <th>tiny_toss_tree</th>\n",
       "      <td>108</td>\n",
       "    </tr>\n",
       "  </tbody>\n",
       "</table>\n",
       "</div>"
      ],
      "text/plain": [
       "                value\n",
       "inflictor            \n",
       "attack           1392\n",
       "tiny_avalanche   6120\n",
       "tiny_toss        5393\n",
       "tiny_toss_tree    108"
      ]
     },
     "metadata": {},
     "output_type": "display_data"
    }
   ],
   "source": [
    "df_inflictor = df_damage.groupby('inflictor').sum()[['value']]\n",
    "display(df_inflictor)"
   ]
  },
  {
   "cell_type": "code",
   "execution_count": 33,
   "metadata": {},
   "outputs": [
    {
     "name": "stdout",
     "output_type": "stream",
     "text": [
      "Combo Damage: 11513\n"
     ]
    }
   ],
   "source": [
    "avalanche = df_inflictor.loc['tiny_avalanche', 'value']\n",
    "toss = df_inflictor.loc['tiny_toss', 'value']\n",
    "combo = avalanche + toss\n",
    "print('Combo Damage:', combo)"
   ]
  },
  {
   "cell_type": "code",
   "execution_count": null,
   "metadata": {},
   "outputs": [],
   "source": [
    "# TODO: Подводка к итоговому заданию, ориентированная на человека, который никогда не писал код"
   ]
  },
  {
   "cell_type": "markdown",
   "metadata": {},
   "source": [
    "## Квест\n",
    "\n",
    "Повтори успех OG.JerAx в 3 матче гранд-финала The International 9 https://www.dotabuff.com/matches/4986362254. Сыграй на Tiny и нанеси не менее `11 500` урона с помощью комбинации `Avalanche + Toss`.\n",
    "\n",
    "Исправь код ниже в двух местах, чтобы проверить, удалось ли тебе выполнить квест.<br>\n",
    "**Инкструкция в notion со скриншотами, как загрузить реплей**"
   ]
  },
  {
   "cell_type": "code",
   "execution_count": 46,
   "metadata": {},
   "outputs": [
    {
     "data": {
      "text/html": [
       "<div>\n",
       "<style scoped>\n",
       "    .dataframe tbody tr th:only-of-type {\n",
       "        vertical-align: middle;\n",
       "    }\n",
       "\n",
       "    .dataframe tbody tr th {\n",
       "        vertical-align: top;\n",
       "    }\n",
       "\n",
       "    .dataframe thead th {\n",
       "        text-align: right;\n",
       "    }\n",
       "</style>\n",
       "<table border=\"1\" class=\"dataframe\">\n",
       "  <thead>\n",
       "    <tr style=\"text-align: right;\">\n",
       "      <th></th>\n",
       "      <th>timestamp</th>\n",
       "      <th>minute</th>\n",
       "      <th>source</th>\n",
       "      <th>target</th>\n",
       "      <th>inflictor</th>\n",
       "      <th>value</th>\n",
       "    </tr>\n",
       "  </thead>\n",
       "  <tbody>\n",
       "    <tr>\n",
       "      <th>0</th>\n",
       "      <td>42</td>\n",
       "      <td>0.0</td>\n",
       "      <td>npc_dota_hero_tiny</td>\n",
       "      <td>npc_dota_hero_juggernaut</td>\n",
       "      <td>tiny_toss</td>\n",
       "      <td>67</td>\n",
       "    </tr>\n",
       "    <tr>\n",
       "      <th>1</th>\n",
       "      <td>42</td>\n",
       "      <td>0.0</td>\n",
       "      <td>npc_dota_hero_tiny</td>\n",
       "      <td>npc_dota_hero_ogre_magi</td>\n",
       "      <td>tiny_toss</td>\n",
       "      <td>87</td>\n",
       "    </tr>\n",
       "    <tr>\n",
       "      <th>2</th>\n",
       "      <td>99</td>\n",
       "      <td>1.0</td>\n",
       "      <td>npc_dota_hero_tiny</td>\n",
       "      <td>npc_dota_hero_ogre_magi</td>\n",
       "      <td>attack</td>\n",
       "      <td>38</td>\n",
       "    </tr>\n",
       "    <tr>\n",
       "      <th>3</th>\n",
       "      <td>101</td>\n",
       "      <td>1.0</td>\n",
       "      <td>npc_dota_hero_tiny</td>\n",
       "      <td>npc_dota_hero_ogre_magi</td>\n",
       "      <td>tiny_toss</td>\n",
       "      <td>87</td>\n",
       "    </tr>\n",
       "    <tr>\n",
       "      <th>4</th>\n",
       "      <td>101</td>\n",
       "      <td>1.0</td>\n",
       "      <td>npc_dota_hero_tiny</td>\n",
       "      <td>npc_dota_hero_ogre_magi</td>\n",
       "      <td>attack</td>\n",
       "      <td>50</td>\n",
       "    </tr>\n",
       "  </tbody>\n",
       "</table>\n",
       "</div>"
      ],
      "text/plain": [
       "   timestamp  minute              source                    target  inflictor  \\\n",
       "0         42     0.0  npc_dota_hero_tiny  npc_dota_hero_juggernaut  tiny_toss   \n",
       "1         42     0.0  npc_dota_hero_tiny   npc_dota_hero_ogre_magi  tiny_toss   \n",
       "2         99     1.0  npc_dota_hero_tiny   npc_dota_hero_ogre_magi     attack   \n",
       "3        101     1.0  npc_dota_hero_tiny   npc_dota_hero_ogre_magi  tiny_toss   \n",
       "4        101     1.0  npc_dota_hero_tiny   npc_dota_hero_ogre_magi     attack   \n",
       "\n",
       "   value  \n",
       "0     67  \n",
       "1     87  \n",
       "2     38  \n",
       "3     87  \n",
       "4     50  "
      ]
     },
     "metadata": {},
     "output_type": "display_data"
    },
    {
     "name": "stdout",
     "output_type": "stream",
     "text": [
      "Combo Damage: 11513\n"
     ]
    }
   ],
   "source": [
    "from utils import create_tiny_damage_dataset\n",
    "\n",
    "# replay_path = 'og-liquid-map3.dem'\n",
    "replay_path = 'Вместо текста укажи путь к реплею'\n",
    "\n",
    "df_damage2 = create_tiny_damage_dataset(replay_path)\n",
    "display(df_damage2.head())\n",
    "\n",
    "df_inflictor2 = df_damage2.groupby('inflictor').sum()[['value']]\n",
    "avalanche2 = df_inflictor2.loc['tiny_avalanche', 'value']\n",
    "\n",
    "toss2 = df_inflictor2.loc['Вместо текста укажи идентификатор способности Toss', 'value']\n",
    "\n",
    "combo2 = avalanche2 + toss2\n",
    "print('Combo Damage:', combo2)\n",
    "\n",
    "if combo2 >= 11500:\n",
    "    print('Успех!')\n",
    "else:\n",
    "    print('Почти получилось :)')"
   ]
  },
  {
   "cell_type": "markdown",
   "metadata": {},
   "source": [
    "## Что дальше?\n",
    "\n",
    "Отправь решение боту (что именно отправлять?), чтобы получить ссылку на следующий урок."
   ]
  }
 ],
 "metadata": {
  "kernelspec": {
   "display_name": "Python 3",
   "language": "python",
   "name": "python3"
  },
  "language_info": {
   "codemirror_mode": {
    "name": "ipython",
    "version": 3
   },
   "file_extension": ".py",
   "mimetype": "text/x-python",
   "name": "python",
   "nbconvert_exporter": "python",
   "pygments_lexer": "ipython3",
   "version": "3.7.1"
  }
 },
 "nbformat": 4,
 "nbformat_minor": 2
}
