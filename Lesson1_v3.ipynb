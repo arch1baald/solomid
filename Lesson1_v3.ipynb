{
 "cells": [
  {
   "cell_type": "code",
   "execution_count": null,
   "metadata": {},
   "outputs": [],
   "source": [
    "import pandas as pd\n",
    "\n",
    "with open('og-liquid-map-3-tiny-damage.csv', 'r') as csv_file:\n",
    "    df_damage = pd.read_csv(csv_file)"
   ]
  },
  {
   "cell_type": "code",
   "execution_count": null,
   "metadata": {},
   "outputs": [],
   "source": [
    "df_damage.head()"
   ]
  },
  {
   "cell_type": "code",
   "execution_count": null,
   "metadata": {},
   "outputs": [],
   "source": [
    "df_damage['value'].sum()"
   ]
  },
  {
   "cell_type": "code",
   "execution_count": null,
   "metadata": {},
   "outputs": [],
   "source": [
    "import matplotlib.pyplot as plt\n",
    "\n",
    "df_damage['total_damage_done'] = df_damage['value'].cumsum()\n",
    "df_damage.plot(\n",
    "    kind='line', \n",
    "    x='minute', \n",
    "    y='total_damage_done', \n",
    "    title='OG vs. Liqud, Map 3, Damage Done to Liquid by OG.JerAx as Tiny'\n",
    ")"
   ]
  },
  {
   "cell_type": "code",
   "execution_count": null,
   "metadata": {},
   "outputs": [],
   "source": [
    "df_inflictor = df_damage.groupby('inflictor').sum()[['value']]\n",
    "display(df_inflictor)"
   ]
  },
  {
   "cell_type": "code",
   "execution_count": null,
   "metadata": {},
   "outputs": [],
   "source": [
    "avalanche = df_inflictor.loc['tiny_avalanche', 'value']\n",
    "toss = df_inflictor.loc['tiny_toss', 'value']\n",
    "combo = avalanche + toss\n",
    "print('Combo Damage:', combo)"
   ]
  },
  {
   "cell_type": "code",
   "execution_count": null,
   "metadata": {},
   "outputs": [],
   "source": [
    "# TODO: Подводка к итоговому заданию, ориентированная на человека, который никогда не писал код"
   ]
  },
  {
   "cell_type": "markdown",
   "metadata": {},
   "source": [
    "## Квест\n",
    "\n",
    "Повтори успех OG.JerAx в 3 матче гранд-финала The International 9 https://www.dotabuff.com/matches/4986362254. Сыграй на Tiny и нанеси не менее `11 500` урона с помощью комбинации `Avalanche + Toss`.\n",
    "\n",
    "Исправь код ниже в двух местах, чтобы проверить, удалось ли тебе выполнить квест.<br>\n",
    "**Инкструкция в notion со скриншотами, как загрузить реплей**"
   ]
  },
  {
   "cell_type": "code",
   "execution_count": null,
   "metadata": {},
   "outputs": [],
   "source": [
    "from utils import create_tiny_damage_dataset\n",
    "\n",
    "# replay_path = 'og-liquid-map3.dem'\n",
    "replay_path = 'Вместо текста укажи путь к реплею'\n",
    "\n",
    "df_damage2 = create_tiny_damage_dataset(replay_path)\n",
    "display(df_damage2.head())\n",
    "\n",
    "df_inflictor2 = df_damage2.groupby('inflictor').sum()[['value']]\n",
    "avalanche2 = df_inflictor2.loc['tiny_avalanche', 'value']\n",
    "\n",
    "toss2 = df_inflictor2.loc['Вместо текста укажи идентификатор способности Toss', 'value']\n",
    "\n",
    "combo2 = avalanche2 + toss2\n",
    "print('Combo Damage:', combo2)\n",
    "\n",
    "if combo2 >= 11500:\n",
    "    print('Успех!')\n",
    "else:\n",
    "    print('Почти получилось :)')"
   ]
  },
  {
   "cell_type": "markdown",
   "metadata": {},
   "source": [
    "## Что дальше?\n",
    "\n",
    "Отправь решение боту (что именно отправлять?), чтобы получить ссылку на следующий урок."
   ]
  }
 ],
 "metadata": {
  "kernelspec": {
   "display_name": "Python 3",
   "language": "python",
   "name": "python3"
  },
  "language_info": {
   "codemirror_mode": {
    "name": "ipython",
    "version": 3
   },
   "file_extension": ".py",
   "mimetype": "text/x-python",
   "name": "python",
   "nbconvert_exporter": "python",
   "pygments_lexer": "ipython3",
   "version": "3.7.1"
  }
 },
 "nbformat": 4,
 "nbformat_minor": 2
}
