{
 "cells": [
  {
   "cell_type": "markdown",
   "metadata": {},
   "source": [
    "# Lesson 1\n",
    "## Jupyter\n",
    "Ты попал в среду разработки Jupyter Lab. Перед тобой тетрадка с первым уроком. Она представляет из себя последовательность ячеек, где каждая ячейка может содержать код, либо текст и мультимедиа.\n",
    "\n",
    "#### Задание\n",
    "Ниже твой первый код на Python. Выполни содержимое ячейки. Для этого кликни на нее мышкой и используй сочетание клавиш Shift + Enter."
   ]
  },
  {
   "cell_type": "code",
   "execution_count": null,
   "metadata": {},
   "outputs": [],
   "source": [
    "# Нажми мышкой на ячейку и запусти ее с помощью комбинации Shift + Enter\n",
    "\n",
    "name = 'Вован'\n",
    "age = 18\n",
    "print('Hello, World! Меня зовут', name + ',', 'мне', age)"
   ]
  },
  {
   "cell_type": "markdown",
   "metadata": {},
   "source": [
    "Поздравляю! Результатом выполнения кода стал вывод <br>\n",
    "`Hello, World! Меня зовут Вован, мне 18`\n",
    "\n",
    "Python - интерпретируемый язык. Это означает, что код выполняется построчно.<br><br>\n",
    "Когда ты запустил ячейку, сначала выполнилась команда <br>\n",
    "`name = 'Вован'`<br>\n",
    "В результате в оперативной памяти появилась переменная `name` со значением `'Вован'` типа str (от String - строка).<br><br>\n",
    "Далее выполнилась команда<br>\n",
    "`age = 18`<br>\n",
    "В результате в оперативной памяти появилась переменная `age` со значением `18` типа int (от Integer - целое число).<br><br>\n",
    "В последней строке мы использовали функцию `print()`.<br>\n",
    "`print('Hello, World! Меня зовут', name + ',', 'мне', age)`<br>\n",
    "На вход она принимает параметры через запятую. В качестве параметров выступают:\n",
    "- `'Hello, World! Меня зовут'` - строковая константа\n",
    "- `name + ','` - выражение со значением `'Вован,'`\n",
    "- `'мне'` - строковая константа\n",
    "- `age` - переменная с целочисленным значением `18`\n",
    "\n",
    "В результате выполнения функция `print()` печатает на экран значения параметров через пробелы.\n",
    "\n",
    "#### Задание\n",
    "Исправь код в **предыдущей** ячейке (которая над описанием задания), выведи свое настоящее имя и возраст.\n",
    "***"
   ]
  },
  {
   "cell_type": "markdown",
   "metadata": {},
   "source": [
    "## The International 2019\n",
    "\n",
    "Решать абстрактные задания в вакууме можно и на уроке информатики. Я знаю, ты здесь ради практики. Поехали!\n",
    "\n",
    "На [3 карте](https://www.dotabuff.com/matches/4986362254) гранд-финила OG.JerAx играл на Tiny и задавал темп всей вечеринке вместе с OG.Topson, который был на Pugna. \n",
    "\n",
    "Файл `og-liquid-map-3-tiny-damage.csv` представляет из себя журнал урона, нанесенного Tiny на той карте. \n",
    "<img src='data-screenshot.png'/>\n",
    "Это таблица, где каждая строка соответствет урону Tiny по какому-либо персонажу на карте. Чтобы посмотреть содержимое файла, найди его в левом меню и дважды кликни. Столбцы файла:\n",
    "- `timestamp` - время в секундах с момента выхода первой пачки крипов\n",
    "- `minute` - время в минутах с момента выхода первой пачки крипов\n",
    "- `source` - источник урона (для всех строк содержит идентификатор npc_dota_hero_tiny)\n",
    "- `target` - цель урона\n",
    "- `inflictor` - причина урона\n",
    "- `value` - количество урона\n",
    "\n",
    "Чтобы работать с файлом в Python, нужно считать его в оперативную память."
   ]
  },
  {
   "cell_type": "code",
   "execution_count": null,
   "metadata": {},
   "outputs": [],
   "source": [
    "# Нажми мышкой на ячейку и запусти ее с помощью комбинации Shift + Enter\n",
    "\n",
    "import pandas as pd  # Подключаем библиотеку для работы с таблицами\n",
    "\n",
    "with open('og-liquid-map-3-tiny-damage.csv', 'r') as csv_file:\n",
    "    df_damage = pd.read_csv(csv_file)  # Считываем данные из таблицы\n",
    "\n",
    "n_rows_to_display = 5  # Устанавливаем кол-во строк для вывода на экран\n",
    "df_damage.head(n_rows_to_display)  # Выводим на экран первые n_rows_to_display строк таблицы"
   ]
  },
  {
   "cell_type": "markdown",
   "metadata": {},
   "source": [
    "## Задание\n",
    "Исправь код в **предыдущей** ячейке (которая над описанием задания), выведи на экран первые 10 строк таблицы.\n",
    "***\n",
    "Теперь над таблицей можно проводить различные операции с помощью Python. Например, можно создать колонку, где все значения равны `1`."
   ]
  },
  {
   "cell_type": "code",
   "execution_count": null,
   "metadata": {},
   "outputs": [],
   "source": [
    "# Нажми мышкой на ячейку и запусти ее с помощью комбинации Shift + Enter\n",
    "\n",
    "df_damage['my_column'] = 1\n",
    "df_damage.head()"
   ]
  },
  {
   "cell_type": "markdown",
   "metadata": {},
   "source": [
    "Естественным образом встает вопрос \"Сколько урона нанес OG.JerAx в том матче на Tiny?\". Ответ на него можно получить с помошью всего одной строчки кода. Для этого нужно вывести сумму всех значений в колонке `value`"
   ]
  },
  {
   "cell_type": "code",
   "execution_count": null,
   "metadata": {},
   "outputs": [],
   "source": [
    "# Нажми мышкой на ячейку и запусти ее с помощью комбинации Shift + Enter\n",
    "\n",
    "df_damage['value'].sum()"
   ]
  },
  {
   "cell_type": "markdown",
   "metadata": {},
   "source": [
    "урона нанес OG.JerAx в том матче на Tiny.\n",
    "## Задание\n",
    "Выясни, **сколько раз** Tiny наносил урон в том матче.<br>\n",
    "Для этого скопируй код из предыдущей ячейки и замени метод `.sum()` на `.count()`"
   ]
  },
  {
   "cell_type": "code",
   "execution_count": null,
   "metadata": {},
   "outputs": [],
   "source": [
    "# Скопируй код сюда. Не забудь запустить ячейку с помощью комбинации Shift + Enter\n",
    "\n"
   ]
  },
  {
   "cell_type": "markdown",
   "metadata": {},
   "source": [
    "А как урон был распределен по героям противника? Для этого нужно посчитать, сколько урона получил от Tiny каждый из героев противника."
   ]
  },
  {
   "cell_type": "code",
   "execution_count": null,
   "metadata": {},
   "outputs": [],
   "source": [
    "# Нажми мышкой на ячейку и запусти ее с помощью комбинации Shift + Enter\n",
    "\n",
    "# Кстати, внутри скобок можно делать перенос на новую строку, \n",
    "# чтобы код не был очень широким (иначе его становится сложно читать).\n",
    "(    \n",
    "    df_damage            # К таблице с уроном\n",
    "    .groupby('target')   # применяем операцию группировки строк по значению столбца target\n",
    "    .sum()               # суммируем значения внутри каждой группы\n",
    "    [['value']]          # выводим на экран новую таблицу с всего лишь одним столбцом\n",
    ")"
   ]
  },
  {
   "cell_type": "markdown",
   "metadata": {},
   "source": [
    "Как мы видим, Templar Assasin и Juggernaut не так сильно страдали от Tiny. Этому есть объяснение. Refraction Templar Assasin блокирует урон Tiny, а Blade Fury Juggernaut и вовсе делает его имунным к магии.\n",
    "***\n",
    "С помощью Python очень легко визуализировать данные. Основная польза от Tiny - урон. Как рос суммарный нанесенный урон Tiny в течение матча? Разобьем задачу на 2 этапа\n",
    "\n",
    "**Этап 1**"
   ]
  },
  {
   "cell_type": "code",
   "execution_count": null,
   "metadata": {},
   "outputs": [],
   "source": [
    "# Нажми мышкой на ячейку и запусти ее с помощью комбинации Shift + Enter\n",
    "\n",
    "df_damage['total_damage_done'] = df_damage['value'].cumsum()  # Создаем в таблице новую колонку с суммарным уроном\n",
    "df_damage.head() # Выводим первые 5 строк таблицы с новой колонкой total_damage_done"
   ]
  },
  {
   "cell_type": "markdown",
   "metadata": {},
   "source": [
    "Чтобы лучше понять, как работает метод `.cumsum()`, посмотри примеры в [документации](https://pandas.pydata.org/pandas-docs/stable/reference/api/pandas.DataFrame.cumsum.html)\n",
    "\n",
    "**Этап 2**"
   ]
  },
  {
   "cell_type": "code",
   "execution_count": null,
   "metadata": {},
   "outputs": [],
   "source": [
    "# Нажми мышкой на ячейку и запусти ее с помощью комбинации Shift + Enter\n",
    "\n",
    "import matplotlib.pyplot as plt  # Подключаем библиотеку для визуализации\n",
    "\n",
    "fig, ax = plt.subplots()  # Создаем пустой холст для рисования\n",
    "df_damage.plot( # Вызываем функцию, позволяющуюю рисовать графики\n",
    "    kind='line',  # Выбираем тип графика \"линейный\"\n",
    "    x='minute',   # По оси Ox откладываем минуты матча с момента выхода крипов\n",
    "    y='total_damage_done',  # По оси Oy откладываем суммарный урон Tiny к данной минуте\n",
    "    grid=True,  # Добавляем на график сетку\n",
    "    title='OG vs. Liqud, Map 3, Damage Done to Liquid by OG.JerAx as Tiny',  # Добавляем заголовок\n",
    "    ax=ax,  # Передаем методу ссылку на холст\n",
    ")\n",
    "plt.show()  # Выводим график на экран"
   ]
  },
  {
   "cell_type": "markdown",
   "metadata": {},
   "source": [
    "Из графика видно, что матч длился порядка 24 минут. Tiny на ранней стадии силен за счет способностей `Avalanche` и `Toss`.\n",
    "***\n",
    "Сколько суммарно нужно наносить урона с помощью этих способностей, чтобы тащить в матчмейкинге Dota 2? \n",
    "Для ответа на этот вопрос разобьем задачу на 3 этапа\n",
    "\n",
    "**Этап 1**"
   ]
  },
  {
   "cell_type": "code",
   "execution_count": null,
   "metadata": {},
   "outputs": [],
   "source": [
    "# Нажми мышкой на ячейку и запусти ее с помощью комбинации Shift + Enter\n",
    "\n",
    "df_inflictor = (  # Создаем новую таблицу df_inflictor с суммарным уроном каждой способности\n",
    "    df_damage\n",
    "    .groupby('inflictor')\n",
    "    .sum()\n",
    "    [['value']]\n",
    ")\n",
    "df_inflictor  # Выводим таблицу"
   ]
  },
  {
   "cell_type": "markdown",
   "metadata": {},
   "source": [
    "- `attack` - кол-во нанесенного Tiny урона с руки\n",
    "- `tiny_analanche` - кол-во нанесенного Tiny урона с помощью способности `Avalanche`\n",
    "- `tiny_toss` - кол-во нанесенного Tiny урона с помощью способности `Toss`\n",
    "- `tiny_toss_tree` - кол-во нанесенного Tiny урона с помощью способности `Toss Tree`\n",
    "\n",
    "**Этап 2**<br>\n",
    "Как сохранить в переменную значение урона с `tiny_avalanche`? Каждая ячейка находится на пересечении строки и столбца, поэтому ее значение можно получить с помощью метода `.loc['строка', 'столбец']`"
   ]
  },
  {
   "cell_type": "code",
   "execution_count": null,
   "metadata": {},
   "outputs": [],
   "source": [
    "# Нажми мышкой на ячейку и запусти ее с помощью комбинации Shift + Enter\n",
    "\n",
    "df_inflictor.loc['tiny_avalanche', 'value']"
   ]
  },
  {
   "cell_type": "markdown",
   "metadata": {},
   "source": [
    "**Этап 2**"
   ]
  },
  {
   "cell_type": "code",
   "execution_count": null,
   "metadata": {},
   "outputs": [],
   "source": [
    "# Нажми мышкой на ячейку и запусти ее с помощью комбинации Shift + Enter\n",
    "\n",
    "avalanche = df_inflictor.loc['tiny_avalanche', 'value']  # Создаем переменную с кол-вом урона avalanche\n",
    "toss = df_inflictor.loc['tiny_toss', 'value']  # Создаем переменную с кол-вом урона toss\n",
    "combo = avalanche + toss  # Считаем суммарный урон с обоих способностей\n",
    "print('Combo Damage:', combo)  # Выводим урон на экран"
   ]
  },
  {
   "cell_type": "markdown",
   "metadata": {},
   "source": [
    "***\n",
    "# ДЗ\n",
    "\n",
    "Повтори успех OG.JerAx на [3 карте](https://www.dotabuff.com/matches/4986362254) гранд-финала The International 9. \n",
    "1. Сыграй на Tiny и нанеси не менее `11 500` урона с помощью комбинации `Avalanche + Toss`\n",
    "2. Отправь матч на проверку боту в FB Messenger\n",
    "3. Перейди к следующему уроку\n",
    "\n",
    "## [Отправить ссылку на матч боту в FB Messenger](https://m.me/solomidcourse)"
   ]
  }
 ],
 "metadata": {
  "kernelspec": {
   "display_name": "Python 3",
   "language": "python",
   "name": "python3"
  },
  "language_info": {
   "codemirror_mode": {
    "name": "ipython",
    "version": 3
   },
   "file_extension": ".py",
   "mimetype": "text/x-python",
   "name": "python",
   "nbconvert_exporter": "python",
   "pygments_lexer": "ipython3",
   "version": "3.7.1"
  }
 },
 "nbformat": 4,
 "nbformat_minor": 2
}
