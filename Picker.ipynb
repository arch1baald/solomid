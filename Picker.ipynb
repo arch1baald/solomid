{
 "cells": [
  {
   "cell_type": "markdown",
   "metadata": {},
   "source": [
    "## Письмо от основателей компании\n",
    "Привет!\n",
    "\n",
    "Во-первых, я тебя поздравляю! Ты прошел тестовое задание и дошел до финального этапа отбора на позицию Junior Full Stack Engineer в компании Solo mid. Осталось двое претендентов, и один из них – ты!\n",
    "\n",
    "Теперь позволь представиться. Меня зовут Джон, и я – основатель этой компании. Также с нами Майк - мой партнер, отвечающий за разработку. Ежемесячно 10 млн человек по всему миру играют в Dota 2. Наша компания стремится делать этот процесс еще проще и приятнее.\n",
    "\n",
    "Мы решили начать со стадии выбора героя - pick. Каждую игру дотеру нужно делать выбор среди более чем 100 персонажей в зависимости от меты, личных предпочтений, персонажей союзников и противников. Если игрок ошибается на стадии пика, то следующие ~40 минут могут приносить сплошное разочарование, а сам матч закончится поражением.\n",
    "\n",
    "Решение проблемы явно обладает спросом, что доказывает наличие других продуктов по запросу [\"dota 2 picker\" в google](https://www.google.com/search?q=dota+2+picker&oq=dota+2+picker). Проблема существующих продуктов в том, что они требуют от пользователя ввести 9 персонажей (4 союзных и 5 вражеских) каждый раз, когда он хочет получить рекомендацию. Это неудобно и занимает много времени. Мы планируем исправить данное недоразумение с помощью здравого смысла, логики и технологии искусственного интеллекта/машинного обучения.\n",
    "\n",
    "Компания живет на инвестиции основателей и не может позволить себе опытных разработчиков. Поэтому ты здесь. Мы готовы предложить возможность участвовать в создании продукта, которым будут пользоваться миллионы человек, поделиться знаниями и конечно же символическую зарплату.\n",
    "\n",
    "Финальное решение по твоей кандидатуре мы вынесем на основе тестового задания. Отнесись к нему серьезно. Если оно покажется простыми - это хороший знак, потому что дальше будет сложнее. Если сложным - ничего страшного, в нем будут ссылки на дополнительные материалы."
   ]
  },
  {
   "cell_type": "markdown",
   "metadata": {},
   "source": [
    "# Simple Picker\n",
    "Раньше разработка технологических продуктов велась так:\n",
    "1. Придумываешь продукт\n",
    "2. Составляешь огромное техническое задание для разработчиков\n",
    "3. Год пишите код\n",
    "4. Выпускаете продукт в свет, а он оказывается никому не нужен, потому что в п. 1 не было учтено множество факторов\n",
    "\n",
    "В соверменном мире технологические продукты создаются с помощью итеративной разработки. Это очень просто:\n",
    "1. Делаешь как можно быстрее первую версию продукта с минимальным базовым функционалом\n",
    "2. Показываешь продукт пользователям и собираешь обратную связь\n",
    "3. Корректируешь стратегию\n",
    "4. Создаешь новую версию продукта\n",
    "5. Повторяешь цикл из пунктов 2-5\n",
    "\n",
    "\n",
    "Мы решили сделать первый прототип на основе live-матчей игроков высокого уровня (вкладка Watch в Dota 2). Будем находить самых популярных персонажей в данный момент и рекомендовать их пользователю. Таким образом учтем текущую мету (сильных персонажей в патче) и избавим пользователя от необходимости что-либо вводить. Если прототип окажется востребованным, то будем улучшать качество рекоммендаций, учитывая предпочтения пользователя, персонажей союзников и противников.\n",
    "***"
   ]
  },
  {
   "cell_type": "markdown",
   "metadata": {},
   "source": [
    "Чтобы получить доступ к информации о live-матчах, достаточно перейти по ссылке:\n",
    "\n",
    "https://api.steampowered.com/IDOTA2Match_570/GetTopLiveGame/v1/?key=39B30BB1AB0BE5FBCA5D06EF2D9AF6A0&partner=0\n",
    "\n",
    "Когда ты открыл ее в браузере, произошел запрос на сервер Steam [API](https://te-st.ru/2014/08/15/what-is-api/). В ответ на этот запрос сервер вернул данные о live-матчах в формате [JSON](https://medium.com/@stasonmars/%D0%B2%D0%B2%D0%B5%D0%B4%D0%B5%D0%BD%D0%B8%D0%B5-%D0%B2-json-c798d2723107). Теперь давай разберемся, как появилась эта магическая ссылка.\n",
    "\n",
    "- https://api.steampower.com - корневой URL. Фактически это адрес сервера в интернете<br>\n",
    "- /IDOTA2Match_570/GetTopLiveGame/v1/ - endpoint. Так называемая \"ручка\" сервера. Дергая ее, мы получаем данные по Top Live Games<br>\n",
    "- ? - все, что идет после знака вопроса - параметры запроса\n",
    "- key=39B30BB1AB0BE5FBCA5D06EF2D9AF6A0 - API ключ - идентификатор клиента, делающего запрос. Свой ключ ты можешь получить [здесь](https://steamcommunity.com/dev/apikey)\n",
    "- & - синоним союза \"и\"\n",
    "- partner=0 - техническое поле, которое требует Steam API. Я сам не знаю, зачем оно нужно, но без него запрос не пройдет. Можешь попробовать удалить его из ссылки и посмотреть, что будет\n",
    "\n",
    "[Более подробно о Steam API](https://dev.dota2.com/showthread.php?t=47115)\n",
    "***"
   ]
  },
  {
   "cell_type": "markdown",
   "metadata": {},
   "source": [
    "Естественным образом встает вопрос, что же за куча текста возвращается в результате запроса и как с ней работать в Python? Все очень просто, в этом нам поможет [модуль](https://www.ibm.com/developerworks/ru/library/l-python_part_5/index.html) `requests`"
   ]
  },
  {
   "cell_type": "code",
   "execution_count": null,
   "metadata": {},
   "outputs": [],
   "source": [
    "import requests  # Подключаем модуль\n",
    "\n",
    "root_url = 'https://api.steampowered.com'  # Переменная с адресом сервера в интернете\n",
    "live_matches_endpoint = '/IDOTA2Match_570/GetTopLiveGame/v1/'  # Ручка сервера\n",
    "api_key = '39B30BB1AB0BE5FBCA5D06EF2D9AF6A0'  # Идентификатор клиента\n",
    "query_params = {  # Словарь с параметрами запроса\n",
    "    'key': api_key,\n",
    "    'partner': 0\n",
    "}\n",
    "print(query_params)"
   ]
  },
  {
   "cell_type": "markdown",
   "metadata": {},
   "source": [
    "Чуть подробнее остановится на переменной `query_params`, она ссылается на [словарь](https://pythonworld.ru/tipy-dannyx-v-python/slovari-dict-funkcii-i-metody-slovarej.html) или `dict`. Словари позволяют хранить пары ключ-значение и имеют [некоторые сходства](https://python-scripts.com/json) с форматом JSON."
   ]
  },
  {
   "cell_type": "code",
   "execution_count": null,
   "metadata": {},
   "outputs": [],
   "source": [
    "url = root_url + live_matches_endpoint  # Формируем ссылку без параметров\n",
    "response = requests.get(url, query_params)  # \n",
    "print(response)"
   ]
  },
  {
   "cell_type": "markdown",
   "metadata": {},
   "source": [
    "Основная магия происходит в строчке `response = requests.get(url, query_params)`. Python с помощью модуля `requests` отправляет запрос по `url=`https://api.steampowered.com/IDOTA2Match_570/GetTopLiveGame/v1/ с параметрами `key=39B30BB1AB0BE5FBCA5D06EF2D9AF6A0` и `partner=0`. Ответ сервера сохраняется в переменную `response`. Код 200 означает, что все хорошо, запрос правильно составлен и сервер вернул ответ. [Какие еще бывают коды ответов сервера](https://ru.wikipedia.org/wiki/Список_кодов_состояния_HTTP). Чтобы вывести содержимое ответа `response` в формате JSON, можно использовать метод `.json()`"
   ]
  },
  {
   "cell_type": "code",
   "execution_count": null,
   "metadata": {},
   "outputs": [],
   "source": [
    "response.json()"
   ]
  },
  {
   "cell_type": "markdown",
   "metadata": {},
   "source": [
    "Отлично! Куча данных, но все еще ничего не понятно. Давай разбираться. Первым делом сохраним ответ сервера в переменную `data`."
   ]
  },
  {
   "cell_type": "code",
   "execution_count": null,
   "metadata": {},
   "outputs": [],
   "source": [
    "data = response.json()"
   ]
  },
  {
   "cell_type": "markdown",
   "metadata": {},
   "source": [
    "Выясним, что за тип данных содержит переменная"
   ]
  },
  {
   "cell_type": "code",
   "execution_count": null,
   "metadata": {},
   "outputs": [],
   "source": [
    "type(data)"
   ]
  },
  {
   "cell_type": "markdown",
   "metadata": {},
   "source": [
    "Ага, это [словарь](https://pythonworld.ru/tipy-dannyx-v-python/slovari-dict-funkcii-i-metody-slovarej.html), что-то похожее на содержимое переменной `query_params` и JSON. Словарь содержит пары в формате ключ-значение. Выясним, какие ключи есть у этого словаря."
   ]
  },
  {
   "cell_type": "code",
   "execution_count": null,
   "metadata": {},
   "outputs": [],
   "source": [
    "data.keys()"
   ]
  },
  {
   "cell_type": "markdown",
   "metadata": {},
   "source": [
    "Всего один ключ `'game_list'`, обратимся к нему"
   ]
  },
  {
   "cell_type": "code",
   "execution_count": null,
   "metadata": {},
   "outputs": [],
   "source": [
    "data['game_list']"
   ]
  },
  {
   "cell_type": "markdown",
   "metadata": {},
   "source": [
    "Выполнив строчку `data['game_list']`, мы получили значение, соответствующее ключу `'game_list'` словаря `data`. Что за тип имеет это значение?"
   ]
  },
  {
   "cell_type": "code",
   "execution_count": null,
   "metadata": {},
   "outputs": [],
   "source": [
    "type(data['game_list'])"
   ]
  },
  {
   "cell_type": "markdown",
   "metadata": {},
   "source": [
    "Ага, это [список](https://pythonworld.ru/tipy-dannyx-v-python/spiski-list-funkcii-i-metody-spiskov.html). Фактически это набор пронумерованных объектов. Сколько в этом списке объектов? В этом поможет функция `len()` от слова length."
   ]
  },
  {
   "cell_type": "code",
   "execution_count": null,
   "metadata": {},
   "outputs": [],
   "source": [
    "len(data['game_list'])"
   ]
  },
  {
   "cell_type": "markdown",
   "metadata": {},
   "source": [
    "В списке 10 объектов, но что же это за объекты? Поскольку список - набор пронумерованных элементов, то логичено, что к каждому элементу можно обращаться по индексу (номеру)."
   ]
  },
  {
   "cell_type": "code",
   "execution_count": null,
   "metadata": {},
   "outputs": [],
   "source": [
    "data['game_list'][5]"
   ]
  },
  {
   "cell_type": "markdown",
   "metadata": {},
   "source": [
    "Данных стало гораздо меньше, мы на верном пути. Что же это за тип данных хранится в списке по индексу 5?"
   ]
  },
  {
   "cell_type": "code",
   "execution_count": null,
   "metadata": {},
   "outputs": [],
   "source": [
    "type(data['game_list'][5])"
   ]
  },
  {
   "cell_type": "markdown",
   "metadata": {},
   "source": [
    "А это снова `dict`. Как ты уже понял, словари могут содержать ключи и значения, значениями могут выступать списки, числа, строки или снова словари. Вообще любые другие объекты. Списки также могут содержать в качестве значений словари или числа, или строки, или какие-то произвольные объекты. Очень удобно.\n",
    "\n",
    "Но вернемся к словарю `data['game_list'][5]` и посмотрим на его ключи"
   ]
  },
  {
   "cell_type": "code",
   "execution_count": null,
   "metadata": {},
   "outputs": [],
   "source": [
    "data['game_list'][5].keys()"
   ]
  },
  {
   "cell_type": "markdown",
   "metadata": {},
   "source": [
    "`match_id`, `players`, `radiant_score`, `dire_score` - если вы играли в доту, то эти слова должны быть вам знакомы. А если еще вспомнить, что мы дергали ручку /IDOTA2Match_570/GetTopLiveGame/v1/ с данными по Top Live Games, то становится ясно, что мы получили данные какого-то live-матча в Dota 2.\n",
    "\n",
    "`match_id` - это идентификатор матча<br>\n",
    "`players` - список участников матча<br>\n",
    "`radiant_score` - кол-во убийств у команды The Radiant<br>\n",
    "`dire_score` - кол-во убийств у команды The Dire<br>\n",
    "\n",
    "Получается, что `data['game_list']` - список из 10 матчей. Если зайти в Dota 2, то там на первой странице во вкладке Watch как раз будет 10 матчей. Чтобы было проще читать код, заведем отдельную переменную со списком этих матчей."
   ]
  },
  {
   "cell_type": "code",
   "execution_count": null,
   "metadata": {},
   "outputs": [],
   "source": [
    "matches = data['game_list']"
   ]
  },
  {
   "cell_type": "markdown",
   "metadata": {},
   "source": [
    "Кстати, в Python индексация (нумерация) списков начинается с 0. Это встречается [повсеместно](http://qaru.site/questions/51249/why-does-the-indexing-start-with-zero-in-c) в программировании и имеет корни в устройстве памяти компьютера. \n",
    "\n",
    "`matches[5]` ссылается на тот же объект, что и `data['game_list'][5]`, убедись сам"
   ]
  },
  {
   "cell_type": "code",
   "execution_count": null,
   "metadata": {},
   "outputs": [],
   "source": [
    "matches[5]"
   ]
  },
  {
   "cell_type": "markdown",
   "metadata": {},
   "source": [
    "Чтобы проверить, что два объекта имеют одинаковое значение, используется оператор `==`. Дважды равно, потому что оператор `=` используется для присваивания значения переменным."
   ]
  },
  {
   "cell_type": "code",
   "execution_count": null,
   "metadata": {},
   "outputs": [],
   "source": [
    "matches[5] == data['game_list'][5]"
   ]
  },
  {
   "cell_type": "markdown",
   "metadata": {},
   "source": [
    "Посмотрим еще на несколько матчей. Например на первый матч, который на самом деле нулевой :)"
   ]
  },
  {
   "cell_type": "code",
   "execution_count": null,
   "metadata": {},
   "outputs": [],
   "source": [
    "matches[0]"
   ]
  },
  {
   "cell_type": "markdown",
   "metadata": {},
   "source": [
    "Последний матч в списке соответственно имеет индекс 9"
   ]
  },
  {
   "cell_type": "code",
   "execution_count": null,
   "metadata": {},
   "outputs": [],
   "source": [
    "matches[9]"
   ]
  },
  {
   "cell_type": "code",
   "execution_count": null,
   "metadata": {},
   "outputs": [],
   "source": [
    "matches[10]"
   ]
  },
  {
   "cell_type": "markdown",
   "metadata": {},
   "source": [
    "А вот объекта с индексом 10 в списке длины 10 нет, потому что последний элемент имеет индекс 9. Поэтому при обращении вылетает ошибка `IndexError: list index out of range`. Если непонятно значение этой фразы, то можешь воспользоваться [переводчиком](https://translate.google.com/#view=home&op=translate&sl=en&tl=ru&text=IndexError%3A%20list%20index%20out%20of%20range). Но вообще советую учить английский, чтобы читать документацию. Без этого далеко не уедешь.\n",
    "\n",
    "Если ты совсем не знаком с типами и структурами данных в Python, то советую посмотреть бесплатные лекции в [YouTube](https://www.youtube.com/results?search_query=python+%D1%82%D0%B8%D0%BF%D1%8B+%D0%B4%D0%B0%D0%BD%D0%BD%D1%8B%D1%85) или почитать в [Google](https://www.google.com/search?ei=7CaNXdO3I9CymwWQsZuIAw&q=python+%D1%82%D0%B8%D0%BF%D1%8B+%D0%B4%D0%B0%D0%BD%D0%BD%D1%8B%D1%85&oq=python+%D1%82%D0%B8%D0%BF%D1%8B+%D0%B4%D0%B0%D0%BD%D0%BD%D1%8B%D1%85&gs_l=psy-ab.3..0j0i22i30l9.4003.6034..6212...0.2..0.120.1493.0j13......0....1..gws-wiz.......0i71j0i67j0i22i10i30.m-bWdO623ls&ved=0ahUKEwjT3b35sO_kAhVQ2aYKHZDYBjEQ4dUDCAs&uact=5). Чтобы лучше понимать, почему код в следующей ячейке работает именно так, как он работает."
   ]
  },
  {
   "cell_type": "code",
   "execution_count": null,
   "metadata": {},
   "outputs": [],
   "source": [
    "a = []\n",
    "print(type(a))\n",
    "a.append(1)\n",
    "print(a)\n",
    "b = a\n",
    "b.append(2)\n",
    "print(b)\n",
    "print(a)\n",
    "\n",
    "c = 1\n",
    "d = 'c'\n",
    "e = {\n",
    "    'c': c,\n",
    "    'd': d\n",
    "}\n",
    "print(e)\n",
    "c = 2\n",
    "print(c)\n",
    "print(e['c'])\n",
    "e['f'] = [1, 2, 3]\n",
    "print(e)\n",
    "e['f'].append(123)\n",
    "print(e)\n",
    "g = e['f']\n",
    "g.pop()\n",
    "print(g)\n",
    "print(e)"
   ]
  },
  {
   "cell_type": "markdown",
   "metadata": {},
   "source": [
    "Если ты слегка забыл, то напомню, что изначальная цель - сделать простейший прототип пикера, который рекомендует персонажа на основе его популярности в live-матчах. Для этого нам нужно посчитать, сколько раз каждый из персонажей встречается в списке `matches`. Возьмем в качестве примера один матч"
   ]
  },
  {
   "cell_type": "code",
   "execution_count": null,
   "metadata": {},
   "outputs": [],
   "source": [
    "match = matches[3]"
   ]
  },
  {
   "cell_type": "markdown",
   "metadata": {},
   "source": [
    "Вспомним, что у матча есть поле `players`"
   ]
  },
  {
   "cell_type": "code",
   "execution_count": null,
   "metadata": {},
   "outputs": [],
   "source": [
    "print(type(match['players']))\n",
    "print(len(match['players']))\n",
    "print(match['players'])"
   ]
  },
  {
   "cell_type": "markdown",
   "metadata": {},
   "source": [
    "Это снова `list` список из 10 объектов. Обычно в доту играют 5х5, поэтому каждый из этих 10 объектов - игрок в матче. Рассмотрим игрока с индексом 6"
   ]
  },
  {
   "cell_type": "code",
   "execution_count": null,
   "metadata": {},
   "outputs": [],
   "source": [
    "player = match['players'][6]"
   ]
  },
  {
   "cell_type": "code",
   "execution_count": null,
   "metadata": {},
   "outputs": [],
   "source": [
    "player"
   ]
  },
  {
   "cell_type": "markdown",
   "metadata": {},
   "source": [
    "`account_id` - это уникальный идентификатор [игрока в Steam](https://developer.valvesoftware.com/wiki/SteamID)<br>\n",
    "`hero_id` - это уникальный идентификатор персонажа, на котором играет пользователь с данным `account_id`"
   ]
  },
  {
   "cell_type": "code",
   "execution_count": null,
   "metadata": {},
   "outputs": [],
   "source": [
    "player['hero_id']"
   ]
  },
  {
   "cell_type": "markdown",
   "metadata": {},
   "source": [
    "Чтобы понять, кто из героев скрывается под номером `player['hero_id']`, достаточно [спросить Google](https://www.google.com/search?q=dota+2+hero+id&oq=dota+2+hero+id&aqs=chrome..69i57j0l2j69i60l3.2413j0j7&sourceid=chrome&ie=UTF-8). Если лень, то можно сразу сходить [сюда](https://liquipedia.net/dota2/MediaWiki:Dota2webapi-heroes.json) и воспользоваться поиском через ctrl + f.\n",
    "\n",
    "С данными и их структурой разобрались, теперь настало время написать алгоритм подсчета популярности персонажей.\n",
    "Идея его очень простая:\n",
    "1. Пройтись по всем матчам\n",
    "2. Выписать всех персонажей, которые в этих матчах присутствовали\n",
    "3. Посчитать сколько раз каждый из персонажей встречался\n",
    "\n",
    "Чтобы пройтись по всем матчам, можно использовать [цикл](https://pythonworld.ru/osnovy/cikly-for-i-while-operatory-break-i-continue-volshebnoe-slovo-else.html) `for`"
   ]
  },
  {
   "cell_type": "code",
   "execution_count": null,
   "metadata": {},
   "outputs": [],
   "source": [
    "for match in matches:\n",
    "    print(match['match_id'])"
   ]
  },
  {
   "cell_type": "markdown",
   "metadata": {},
   "source": [
    "В примере выше, для каждого матча из списка `matches` мы распечатали идентификатор `match_id`. Аналогично можно распечатать список всех персонажей, использовавшихся в `matches[0]` - первом матче из списка."
   ]
  },
  {
   "cell_type": "code",
   "execution_count": null,
   "metadata": {},
   "outputs": [],
   "source": [
    "match = matches[0]\n",
    "for player in match['players']:\n",
    "    print(player['hero_id'])"
   ]
  },
  {
   "cell_type": "markdown",
   "metadata": {},
   "source": [
    "Для проверки сравни выведенные на экран идентификаторы персонажей со значениями `'hero_id'` внутри `matches[0]`."
   ]
  },
  {
   "cell_type": "code",
   "execution_count": null,
   "metadata": {},
   "outputs": [],
   "source": [
    "matches[0]"
   ]
  },
  {
   "cell_type": "markdown",
   "metadata": {},
   "source": [
    "Теперь распечатаем всех персонажей, которые встречались в списке `matches`, для этого будем использовать цикл в цикле."
   ]
  },
  {
   "cell_type": "code",
   "execution_count": null,
   "metadata": {},
   "outputs": [],
   "source": [
    "for match in matches:  # Для каждого матча из списка matches\n",
    "    for player in match['players']:  # Для каждого игрока из матча\n",
    "        print(player['hero_id'])  # Вывести на экран hero_id, которого использует игрок"
   ]
  },
  {
   "cell_type": "markdown",
   "metadata": {},
   "source": [
    "## Тут нужно добавить перевод hero_id в hero_name, чтобы ученики лучше понимали, что происходит"
   ]
  },
  {
   "cell_type": "markdown",
   "metadata": {},
   "source": [
    "10 матчей, в каждом матче 10 игроков. В итоге мы распечатали на экран 100 значений `hero_id`. Уже неплохо, но нам нужно знать популярность каждого из персонажей. Для этого сделаем небольшое отвлечение. Как посчитать количество вхождений элементов в список? Здесь нам пожет цикл `for` и [условный оператор](https://devpractice.ru/python-lesson-5-if-while-for-operators/) `if`"
   ]
  },
  {
   "cell_type": "code",
   "execution_count": null,
   "metadata": {},
   "outputs": [],
   "source": [
    "random_list = ['a', 'a', 'a', 43, 'd', 'a', 'c', 'asdf', 12]  # Берем произвольный список\n",
    "counter = {}  # Заводим словарь, который будет выступать в качестве счетчика элементов списка\n",
    "\n",
    "for element in random_list:  # Для каждого элемента в списке\n",
    "    if element not in counter:  # Если в словаре counter нет ключей равных element\n",
    "        counter[element] = 1  # Создаем в словаре ключ element со значением 1 (элемент встретился первый раз)\n",
    "    else:\n",
    "        counter[element] = counter[element] + 1  # Если же в словаре counter есть ключ elemnt,\n",
    "                                                 # то увеличиваем его значение на 1\n",
    "            \n",
    "print('Список произвольных значений: ', random_list)\n",
    "print('Популярность значений в списке:', counter)"
   ]
  },
  {
   "cell_type": "markdown",
   "metadata": {},
   "source": [
    "Видно, что код в предыдущей ячейке является универсальным. Можно заменить `random_list` на любой другой список и получим популярность его элементов. Такие участки кода обычно выносятся в [функции](https://www.google.com/search?q=%D1%84%D1%83%D0%BD%D0%BA%D1%86%D0%B8%D0%B8+python&oq=%D1%84%D1%83%D0%BD%D0%BA%D1%86%D0%B8%D0%B8+python&aqs=chrome.0.69i59j0l3j69i60l2.5309j0j7&sourceid=chrome&ie=UTF-8), чтобы не дублироваться."
   ]
  },
  {
   "cell_type": "code",
   "execution_count": null,
   "metadata": {},
   "outputs": [],
   "source": [
    "def list_elements_counter(lst):  # Объявляем функцию list_elements_counter, которая на вход принимает lst - список\n",
    "    counter = {}  # Заводим словарь, который будет выступать в качестве счетчика элементов списка\n",
    "    for element in lst:  # Для каждого элемента в списке lst\n",
    "        if element not in counter:  # Если в словаре counter нет ключей равных element\n",
    "            counter[element] = 1  # Создаем в словаре ключ element со значением 1 (элемент встретился первый раз)\n",
    "        else:\n",
    "            counter[element] += 1  # Если же в словаре counter есть ключ elemnt,\n",
    "                                   # то увеличиваем его значение на 1 (a += 1 это то же самое, что a = a + 1)\n",
    "    return counter  # Возвращаем счетчик элементов\n",
    "\n",
    "# Не забываем выполнить ячейку с помощью Shift + Enter"
   ]
  },
  {
   "cell_type": "markdown",
   "metadata": {},
   "source": [
    "Проверяем работоспособность функции `list_elements_counter`"
   ]
  },
  {
   "cell_type": "code",
   "execution_count": null,
   "metadata": {},
   "outputs": [],
   "source": [
    "list_elements_counter(random_list)"
   ]
  },
  {
   "cell_type": "markdown",
   "metadata": {},
   "source": [
    "Успех! Естественно, если в функцию передать в качестве аргумента не список, а, например, число, то вылетит ошибка."
   ]
  },
  {
   "cell_type": "code",
   "execution_count": null,
   "metadata": {},
   "outputs": [],
   "source": [
    "number = 123\n",
    "list_elements_counter(123)"
   ]
  },
  {
   "cell_type": "markdown",
   "metadata": {},
   "source": [
    "Все потому что для целых чисел, коим является `123`, не определено, как должен вести себя цикл `for`.\n",
    "\n",
    "Возвращаемся к исходной задаче - определить популярность каждого из персонажей. Для этого сведем эту задачу к уже решенной. Создадим список из 100 элементов, куда будем записывать `'hero_id'` каждый раз, как он встречается в матче."
   ]
  },
  {
   "cell_type": "code",
   "execution_count": null,
   "metadata": {},
   "outputs": [],
   "source": [
    "heroes_in_matches = []  # Создаем пустой список, куда будем добавлять hero_id\n",
    "for match in matches:  # Для каждого матча из списка matches\n",
    "    for player in match['players']:  # Для каждого игрока из матча\n",
    "        heroes_in_matches.append(player['hero_id'])  # Добавляем hero_id в конец списка heroes_in_matches"
   ]
  },
  {
   "cell_type": "markdown",
   "metadata": {},
   "source": [
    "Получили уже знакомые идентификаторы персонажей."
   ]
  },
  {
   "cell_type": "code",
   "execution_count": null,
   "metadata": {},
   "outputs": [],
   "source": [
    "print(heroes_in_matches)"
   ]
  },
  {
   "cell_type": "markdown",
   "metadata": {},
   "source": [
    "Теперь этот список передадим в функцию `list_elements_counter()` и получим популярность каждого из персонажей."
   ]
  },
  {
   "cell_type": "code",
   "execution_count": null,
   "metadata": {},
   "outputs": [],
   "source": [
    "list_elements_counter(heroes_in_matches)"
   ]
  },
  {
   "cell_type": "markdown",
   "metadata": {},
   "source": [
    "Успех! Мы получили словарь, где ключи - hero_id, а значения - популярность hero_id в Top Live Games. Чтобы продолжить работу, сохраним этот словарь в переменную."
   ]
  },
  {
   "cell_type": "code",
   "execution_count": null,
   "metadata": {},
   "outputs": [],
   "source": [
    "heroes_popularity = list_elements_counter(heroes_in_matches)"
   ]
  },
  {
   "cell_type": "markdown",
   "metadata": {},
   "source": [
    "Из документации известно, что hero_id = 0 означает, что игрок еще не выбрал персонажа. Поэтому нам нужно избавиться от ключа 0 в словаре `heroes_popularity`, если он там присутствует."
   ]
  },
  {
   "cell_type": "code",
   "execution_count": null,
   "metadata": {},
   "outputs": [],
   "source": [
    "if 0 in heroes_popularity:\n",
    "    del heroes_popularity[0]"
   ]
  },
  {
   "cell_type": "markdown",
   "metadata": {},
   "source": [
    "Теперь наша задача - найти в словаре ключ, т.е. `hero_id` с самым большим значением, т.е. самого популярного персонажа. Зачастую решение подобного рода задач можно [найти в Google](https://www.google.com/search?ei=KTmNXcz-OIOimwX6qJjwDg&q=python+key+with+max+value+in+dict&oq=python+key+with+max+value+in+dict&gs_l=psy-ab.3..0i22i30l10.1312368.1335250..1335447...16.2..0.155.6079.0j51......0....1..gws-wiz.....0..0i71j0j0i22i10i30j0i67j0i273j0i10.2wSnDz3XpuI&ved=0ahUKEwiMt4Cswu_kAhUD0aYKHXoUBu4Q4dUDCAs&uact=5). Наша проблема не является уникальной и была описана на [StackOverflow](https://stackoverflow.com/questions/268272/getting-key-with-maximum-value-in-dictionary) - запомни этот сайт, ты постоянно будешь к нему обращаться. Самое красивое решение там выглядит так"
   ]
  },
  {
   "cell_type": "code",
   "execution_count": null,
   "metadata": {},
   "outputs": [],
   "source": [
    "stats = {'a':1000, 'b':3000, 'c': 100, 'd':3000}\n",
    "max(stats, key=stats.get)"
   ]
  },
  {
   "cell_type": "markdown",
   "metadata": {},
   "source": [
    "Применим это решение для нашего словаря `heroes_popularity`"
   ]
  },
  {
   "cell_type": "code",
   "execution_count": null,
   "metadata": {},
   "outputs": [],
   "source": [
    "the_most_popular_hero = max(heroes_popularity, key=heroes_popularity.get)\n",
    "print(the_most_popular_hero)"
   ]
  },
  {
   "cell_type": "markdown",
   "metadata": {},
   "source": [
    "Получили идентификатор самого популярного персонажа расшифровать его можно [здесь](https://liquipedia.net/dota2/MediaWiki:Dota2webapi-heroes.json). Стоит обратить внимание, что данный персонаж был самым популярным на момент, когда ты только начал проходить урок и сделал запрос к Steam API. С тех пор прошло время, поэтому ситуация могла измениться.\n",
    "\n",
    "На основе проделанной работы напишем функцию-пикер, которая находить самых популярных персонажей в данный момент и рекомендовать их пользователю."
   ]
  },
  {
   "cell_type": "code",
   "execution_count": null,
   "metadata": {},
   "outputs": [],
   "source": [
    "import requests  # Подключаем модуль\n",
    "\n",
    "\n",
    "def simple_picker():\n",
    "    root_url = 'https://api.steampowered.com'  # Переменная с адресом сервера в интернете\n",
    "    live_matches_endpoint = '/IDOTA2Match_570/GetTopLiveGame/v1/'  # Ручка сервера\n",
    "    api_key = '39B30BB1AB0BE5FBCA5D06EF2D9AF6A0'  # Идентификатор клиента\n",
    "    query_params = {  # Словарь с параметрами запроса\n",
    "        'key': api_key,\n",
    "        'partner': 0\n",
    "    }\n",
    "    url = root_url + live_matches_endpoint  # Формируем ссылку без параметров\n",
    "    response = requests.get(url, query_params)  # \n",
    "\n",
    "    data = response.json()\n",
    "    matches = data['game_list']\n",
    "    \n",
    "    def list_elements_counter(lst):  # Объявляем функцию list_elements_counter, которая на вход принимает lst - список\n",
    "        counter = {}  # Заводим словарь, который будет выступать в качестве счетчика элементов списка\n",
    "        for element in lst:  # Для каждого элемента в списке lst\n",
    "            if element not in counter:  # Если в словаре counter нет ключей равных element\n",
    "                counter[element] = 1  # Создаем в словаре ключ element со значением 1 (элемент встретился первый раз)\n",
    "            else:\n",
    "                counter[element] += 1  # Если же в словаре counter есть ключ elemnt,\n",
    "                                       # то увеличиваем его значение на 1 (a += 1 это то же самое, что a = a + 1)\n",
    "        return counter\n",
    "    \n",
    "    heroes_in_matches = []  # Создаем пустой список, куда будем добавлять hero_id\n",
    "    for match in matches:  # Для каждого матча из списка matches\n",
    "        for player in match['players']:  # Для каждого игрока из матча\n",
    "            heroes_in_matches.append(player['hero_id'])  # Добавляем hero_id в конец списка heroes_in_matches\n",
    "            \n",
    "    heroes_popularity = list_elements_counter(heroes_in_matches)\n",
    "    \n",
    "    if 0 in heroes_popularity:\n",
    "        del heroes_popularity[0]\n",
    "        \n",
    "    the_most_popular_hero = max(heroes_popularity, key=heroes_popularity.get)\n",
    "    return the_most_popular_hero\n",
    "\n",
    "# Не забудь выполнить ячейку с помощью комбинации Shift + Enter"
   ]
  },
  {
   "cell_type": "markdown",
   "metadata": {},
   "source": [
    "Теперь достаточно запустить ячейку с вызовом функции, чтобы получить самый актульный результат"
   ]
  },
  {
   "cell_type": "code",
   "execution_count": null,
   "metadata": {},
   "outputs": [],
   "source": [
    "simple_picker()"
   ]
  },
  {
   "cell_type": "code",
   "execution_count": null,
   "metadata": {},
   "outputs": [],
   "source": []
  }
 ],
 "metadata": {
  "kernelspec": {
   "display_name": "Python 3",
   "language": "python",
   "name": "python3"
  },
  "language_info": {
   "codemirror_mode": {
    "name": "ipython",
    "version": 3
   },
   "file_extension": ".py",
   "mimetype": "text/x-python",
   "name": "python",
   "nbconvert_exporter": "python",
   "pygments_lexer": "ipython3",
   "version": "3.7.1"
  }
 },
 "nbformat": 4,
 "nbformat_minor": 2
}
