{
 "cells": [
  {
   "cell_type": "markdown",
   "metadata": {},
   "source": [
    "# Краткое знакомство с интерактивной средой разработки Jupyter\n",
    "\n",
    "Ниже пример кода на Python. Выполни содержимое ячейки. Для этого кликни на нее мышкой и используй сочетание клавиш <br>\n",
    "Shift + Enter."
   ]
  },
  {
   "cell_type": "code",
   "execution_count": 1,
   "metadata": {},
   "outputs": [
    {
     "name": "stdout",
     "output_type": "stream",
     "text": [
      "Hello, World! Меня зовут Вован, мне 18\n"
     ]
    }
   ],
   "source": [
    "name = 'Вован'\n",
    "age = 18\n",
    "print('Hello, World! Меня зовут', name + ',', 'мне', age)\n",
    "\n",
    "# Нажми мышкой на ячейку и запусти ее с помощью комбинации Shift + Enter"
   ]
  },
  {
   "cell_type": "markdown",
   "metadata": {},
   "source": [
    "<br>\n",
    "\n",
    "Поздравляю! Результатом выполнения кода стала фраза под ячейкой <br>\n",
    "`Hello, World! Меня зовут Вован, мне 18`\n",
    "\n",
    "Далее будем считать, что ты понял как работать с Jupyter, с деталями можешь ознакомиться позже [здесь](http://math-hse.info/f/2018-19/py-polit/instruction_JN.pdf).\n",
    "<br>\n",
    "<br>\n",
    "\n",
    "***"
   ]
  },
  {
   "cell_type": "markdown",
   "metadata": {},
   "source": [
    "# Скачиваем 10 топовых онлайн матчей с вкладки \"Watch\"\n",
    "## Запрашиваем данные\n",
    "Чтобы получить доступ к информации о live-матчах, достаточно перейти по ссылке:\n",
    "\n",
    "https://api.steampowered.com/IDOTA2Match_570/GetTopLiveGame/v1/?key=0151AD3CCB9F86DED7B1B7A9EF078A6F&partner=0\n",
    "\n",
    "Если ты действительно на нее нажал, то скорее всего увидел кучу букав, нихуя не понял и закрыл вкладку. Давай разбираться. Когда ты открыл ссылку в браузере, произошел запрос к [Steam Web API](https://dev.dota2.com/showthread.php?t=47115). В ответ на этот запрос сервер вернул данные о live-матчах в формате [JSON](https://medium.com/@stasonmars/%D0%B2%D0%B2%D0%B5%D0%B4%D0%B5%D0%BD%D0%B8%D0%B5-%D0%B2-json-c798d2723107). То же самое происходит, когда нажимаешь вкладку \"Watch\" в Dota 2. Только там данные отображаются симпатичнее.\n",
    "\n",
    "![title](dota-watch-tab.png)\n",
    "<br>\n",
    "<br>\n",
    "<br>\n",
    "\n",
    "Немного деталей [Steam Web API](https://dev.dota2.com/showthread.php?t=47115):\n",
    "- https://api.steampower.com - корневой URL. Фактически это адрес сервера в интернете<br>\n",
    "- /IDOTA2Match_570/GetTopLiveGame/v1/ - endpoint. Так называемая \"ручка\" сервера. Дергая ее, мы получаем данные по Top Live Games<br>\n",
    "- ? - все, что идет после знака вопроса - параметры запроса\n",
    "- key=0151AD3CCB9F86DED7B1B7A9EF078A6F - API ключ - идентификатор клиента, делающего запрос. Если ты будешь постоянно использовать ключ из примера, могут возникнуть проблемы с доступом к данным. Свой ключ ты можешь получить [здесь](https://steamcommunity.com/dev/apikey).\n",
    "- & - синоним союза \"и\"\n",
    "- partner=0 - техническое поле, которое требует Steam API. Хз какой в нем заложен смысл, но без него запрос сломается."
   ]
  },
  {
   "cell_type": "code",
   "execution_count": 2,
   "metadata": {},
   "outputs": [
    {
     "name": "stdout",
     "output_type": "stream",
     "text": [
      "<Response [200]>\n"
     ]
    }
   ],
   "source": [
    "import requests  # Подключаем модуль для работы с http\n",
    "\n",
    "root_url = 'https://api.steampowered.com'  # Переменная с адресом сервера в интернете\n",
    "live_matches_endpoint = '/IDOTA2Match_570/GetTopLiveGame/v1/'  # Ручка сервера\n",
    "url = root_url + live_matches_endpoint  # Формируем ссылку без параметров\n",
    "api_key = '39B30BB1AB0BE5FBCA5D06EF2D9AF6A0'  # Замени на свой Steam API Key\n",
    "\n",
    "# Словарь (dict, ассоциативный массив) с параметрами запроса \n",
    "# Ссылки с подробностями про словари будут ниже\n",
    "query_params = {\n",
    "    'key': api_key,\n",
    "    'partner': 0\n",
    "}\n",
    "\n",
    "response = requests.get(url, query_params)  # Отправляем GET-запрос к Steam Web API\n",
    "print(response)  # Выводим значение переменной\n",
    "\n",
    "# Нажми мышкой на ячейку и запусти ее с помощью комбинации Shift + Enter"
   ]
  },
  {
   "cell_type": "markdown",
   "metadata": {},
   "source": [
    "Основная магия происходит в строчке `response = requests.get(url, query_params)`. Python с помощью модуля `requests` отправляет запрос по на указанный адрес с заданными параметрами. Ответ сервера сохраняется в переменную `response`. Код 200 означает, что все хорошо, запрос правильно составлен и сервер вернул ответ. [Какие еще бывают коды ответов сервера](https://ru.wikipedia.org/wiki/Список_кодов_состояния_HTTP). Чтобы вывести содержимое ответа `response`, можно использовать метод `.json()`, который распарсит [JSON](https://medium.com/@stasonmars/%D0%B2%D0%B2%D0%B5%D0%B4%D0%B5%D0%BD%D0%B8%D0%B5-%D0%B2-json-c798d2723107) и вернет словарь - Python-объект типа [dict](https://pythonworld.ru/tipy-dannyx-v-python/slovari-dict-funkcii-i-metody-slovarej.html)."
   ]
  },
  {
   "cell_type": "code",
   "execution_count": 3,
   "metadata": {},
   "outputs": [
    {
     "data": {
      "text/plain": [
       "{'game_list': [{'activate_time': 1598195840,\n",
       "   'deactivate_time': 0,\n",
       "   'server_steam_id': 90138182880728069,\n",
       "   'lobby_id': 26810997371046725,\n",
       "   'league_id': 12245,\n",
       "   'lobby_type': 1,\n",
       "   'game_time': 741,\n",
       "   'delay': 300,\n",
       "   'spectators': 2564,\n",
       "   'game_mode': 2,\n",
       "   'average_mmr': 0,\n",
       "   'match_id': 5581596841,\n",
       "   'series_id': 474242,\n",
       "   'team_name_radiant': 'Team Liquid',\n",
       "   'team_name_dire': 'Ninjas in Pyjamas',\n",
       "   'team_logo_radiant': 1043092885845384919,\n",
       "   'team_logo_dire': 939457282117079692,\n",
       "   'team_id_radiant': 2163,\n",
       "   'team_id_dire': 6214973,\n",
       "   'sort_score': 10564,\n",
       "   'last_update_time': 1598197120,\n",
       "   'radiant_lead': 5116,\n",
       "   'radiant_score': 14,\n",
       "   'dire_score': 5,\n",
       "   'players': [{'account_id': 58513047, 'hero_id': 46},\n",
       "    {'account_id': 126212866, 'hero_id': 108},\n",
       "    {'account_id': 122049498, 'hero_id': 6},\n",
       "    {'account_id': 100317750, 'hero_id': 51},\n",
       "    {'account_id': 90125566, 'hero_id': 20},\n",
       "    {'account_id': 152962063, 'hero_id': 63},\n",
       "    {'account_id': 54580962, 'hero_id': 5},\n",
       "    {'account_id': 77490514, 'hero_id': 96},\n",
       "    {'account_id': 86738694, 'hero_id': 61},\n",
       "    {'account_id': 401792574, 'hero_id': 119}],\n",
       "   'building_state': 5374025,\n",
       "   'custom_game_difficulty': 0},\n",
       "  {'activate_time': 1598195712,\n",
       "   'deactivate_time': 0,\n",
       "   'server_steam_id': 90138184845560840,\n",
       "   'lobby_id': 26810997395388138,\n",
       "   'league_id': 0,\n",
       "   'lobby_type': 7,\n",
       "   'game_time': 1237,\n",
       "   'delay': 120,\n",
       "   'spectators': 881,\n",
       "   'game_mode': 22,\n",
       "   'average_mmr': 8331,\n",
       "   'match_id': 5581600936,\n",
       "   'series_id': 0,\n",
       "   'sort_score': 9712,\n",
       "   'last_update_time': 1598197120,\n",
       "   'radiant_lead': 6735,\n",
       "   'radiant_score': 27,\n",
       "   'dire_score': 16,\n",
       "   'players': [{'account_id': 115464954, 'hero_id': 86},\n",
       "    {'account_id': 94054712, 'hero_id': 41},\n",
       "    {'account_id': 851178649, 'hero_id': 113},\n",
       "    {'account_id': 327786937, 'hero_id': 51},\n",
       "    {'account_id': 163412639, 'hero_id': 128},\n",
       "    {'account_id': 86840554, 'hero_id': 25},\n",
       "    {'account_id': 168291251, 'hero_id': 106},\n",
       "    {'account_id': 156709931, 'hero_id': 110},\n",
       "    {'account_id': 293731272, 'hero_id': 14},\n",
       "    {'account_id': 400709028, 'hero_id': 1}],\n",
       "   'building_state': 5374089,\n",
       "   'custom_game_difficulty': 0},\n",
       "  {'activate_time': 1598196352,\n",
       "   'deactivate_time': 0,\n",
       "   'server_steam_id': 90138184533959683,\n",
       "   'lobby_id': 26810997401329037,\n",
       "   'league_id': 0,\n",
       "   'lobby_type': 7,\n",
       "   'game_time': 670,\n",
       "   'delay': 120,\n",
       "   'spectators': 53,\n",
       "   'game_mode': 22,\n",
       "   'average_mmr': 9036,\n",
       "   'match_id': 5581617863,\n",
       "   'series_id': 0,\n",
       "   'sort_score': 9589,\n",
       "   'last_update_time': 1598197120,\n",
       "   'radiant_lead': 3312,\n",
       "   'radiant_score': 3,\n",
       "   'dire_score': 6,\n",
       "   'players': [{'account_id': 104758571, 'hero_id': 39},\n",
       "    {'account_id': 173476224, 'hero_id': 97},\n",
       "    {'account_id': 122867857, 'hero_id': 26},\n",
       "    {'account_id': 204138634, 'hero_id': 44},\n",
       "    {'account_id': 193884241, 'hero_id': 19},\n",
       "    {'account_id': 162641196, 'hero_id': 65},\n",
       "    {'account_id': 1047812276, 'hero_id': 22},\n",
       "    {'account_id': 297312417, 'hero_id': 107},\n",
       "    {'account_id': 132309493, 'hero_id': 1},\n",
       "    {'account_id': 278006984, 'hero_id': 79}],\n",
       "   'building_state': 4849801,\n",
       "   'custom_game_difficulty': 0},\n",
       "  {'activate_time': 1598194304,\n",
       "   'deactivate_time': 0,\n",
       "   'server_steam_id': 90138181161848838,\n",
       "   'lobby_id': 26810997381578552,\n",
       "   'league_id': 0,\n",
       "   'lobby_type': 7,\n",
       "   'game_time': 2689,\n",
       "   'delay': 120,\n",
       "   'spectators': 163,\n",
       "   'game_mode': 22,\n",
       "   'average_mmr': 8695,\n",
       "   'match_id': 5581561898,\n",
       "   'series_id': 0,\n",
       "   'sort_score': 9358,\n",
       "   'last_update_time': 1598197120,\n",
       "   'radiant_lead': -4403,\n",
       "   'radiant_score': 38,\n",
       "   'dire_score': 46,\n",
       "   'players': [{'account_id': 236677177, 'hero_id': 40},\n",
       "    {'account_id': 129071882, 'hero_id': 121},\n",
       "    {'account_id': 948589680, 'hero_id': 39},\n",
       "    {'account_id': 104749803, 'hero_id': 51},\n",
       "    {'account_id': 130424429, 'hero_id': 67},\n",
       "    {'account_id': 896775916, 'hero_id': 16},\n",
       "    {'account_id': 911377565, 'hero_id': 23},\n",
       "    {'account_id': 113995822, 'hero_id': 77},\n",
       "    {'account_id': 122644914, 'hero_id': 21},\n",
       "    {'account_id': 857668070, 'hero_id': 58}],\n",
       "   'building_state': 12255443,\n",
       "   'custom_game_difficulty': 0},\n",
       "  {'activate_time': 1598197120,\n",
       "   'deactivate_time': 0,\n",
       "   'server_steam_id': 90138183198588938,\n",
       "   'lobby_id': 26810997408798482,\n",
       "   'league_id': 0,\n",
       "   'lobby_type': 7,\n",
       "   'game_time': 75,\n",
       "   'delay': 120,\n",
       "   'spectators': 0,\n",
       "   'game_mode': 22,\n",
       "   'average_mmr': 8842,\n",
       "   'match_id': 5581638753,\n",
       "   'series_id': 0,\n",
       "   'sort_score': 9342,\n",
       "   'last_update_time': 1598197120,\n",
       "   'radiant_lead': 0,\n",
       "   'radiant_score': 0,\n",
       "   'dire_score': 0,\n",
       "   'players': [{'account_id': 206144913, 'hero_id': 0},\n",
       "    {'account_id': 228517469, 'hero_id': 0},\n",
       "    {'account_id': 998193717, 'hero_id': 0},\n",
       "    {'account_id': 121833213, 'hero_id': 0},\n",
       "    {'account_id': 135607261, 'hero_id': 0},\n",
       "    {'account_id': 361434745, 'hero_id': 0},\n",
       "    {'account_id': 392565237, 'hero_id': 0},\n",
       "    {'account_id': 86759987, 'hero_id': 0},\n",
       "    {'account_id': 126397214, 'hero_id': 0},\n",
       "    {'account_id': 240261093, 'hero_id': 0}],\n",
       "   'building_state': 19138340,\n",
       "   'custom_game_difficulty': 0},\n",
       "  {'activate_time': 1598196352,\n",
       "   'deactivate_time': 0,\n",
       "   'server_steam_id': 90138184906030088,\n",
       "   'lobby_id': 26810997401267546,\n",
       "   'league_id': 0,\n",
       "   'lobby_type': 7,\n",
       "   'game_time': 580,\n",
       "   'delay': 120,\n",
       "   'spectators': 29,\n",
       "   'game_mode': 22,\n",
       "   'average_mmr': 8729,\n",
       "   'match_id': 5581617644,\n",
       "   'series_id': 0,\n",
       "   'sort_score': 9258,\n",
       "   'last_update_time': 1598197120,\n",
       "   'radiant_lead': -2182,\n",
       "   'radiant_score': 5,\n",
       "   'dire_score': 13,\n",
       "   'players': [{'account_id': 392169957, 'hero_id': 21},\n",
       "    {'account_id': 115651292, 'hero_id': 19},\n",
       "    {'account_id': 152455523, 'hero_id': 6},\n",
       "    {'account_id': 344861218, 'hero_id': 58},\n",
       "    {'account_id': 120090915, 'hero_id': 40},\n",
       "    {'account_id': 98172857, 'hero_id': 9},\n",
       "    {'account_id': 5150808, 'hero_id': 39},\n",
       "    {'account_id': 110819366, 'hero_id': 2},\n",
       "    {'account_id': 322186211, 'hero_id': 109},\n",
       "    {'account_id': 1010977910, 'hero_id': 121}],\n",
       "   'building_state': 4849801,\n",
       "   'custom_game_difficulty': 0},\n",
       "  {'activate_time': 1598196608,\n",
       "   'deactivate_time': 0,\n",
       "   'server_steam_id': 90138184268944389,\n",
       "   'lobby_id': 26810997403980830,\n",
       "   'league_id': 0,\n",
       "   'lobby_type': 7,\n",
       "   'game_time': 344,\n",
       "   'delay': 120,\n",
       "   'spectators': 24,\n",
       "   'game_mode': 22,\n",
       "   'average_mmr': 8594,\n",
       "   'match_id': 5581625321,\n",
       "   'series_id': 0,\n",
       "   'sort_score': 9118,\n",
       "   'last_update_time': 1598197120,\n",
       "   'radiant_lead': -911,\n",
       "   'radiant_score': 3,\n",
       "   'dire_score': 8,\n",
       "   'players': [{'account_id': 389033587, 'hero_id': 91},\n",
       "    {'account_id': 184138153, 'hero_id': 39},\n",
       "    {'account_id': 146711951, 'hero_id': 95},\n",
       "    {'account_id': 460663374, 'hero_id': 14},\n",
       "    {'account_id': 198631761, 'hero_id': 5},\n",
       "    {'account_id': 916650633, 'hero_id': 126},\n",
       "    {'account_id': 101460882, 'hero_id': 121},\n",
       "    {'account_id': 103110865, 'hero_id': 81},\n",
       "    {'account_id': 105335416, 'hero_id': 51},\n",
       "    {'account_id': 122443529, 'hero_id': 110}],\n",
       "   'building_state': 4784201,\n",
       "   'custom_game_difficulty': 0},\n",
       "  {'activate_time': 1598196864,\n",
       "   'deactivate_time': 0,\n",
       "   'server_steam_id': 90138184221669376,\n",
       "   'lobby_id': 26810997405997432,\n",
       "   'league_id': 0,\n",
       "   'lobby_type': 7,\n",
       "   'game_time': 132,\n",
       "   'delay': 120,\n",
       "   'spectators': 15,\n",
       "   'game_mode': 22,\n",
       "   'average_mmr': 8599,\n",
       "   'match_id': 5581631585,\n",
       "   'series_id': 0,\n",
       "   'sort_score': 9114,\n",
       "   'last_update_time': 1598197120,\n",
       "   'radiant_lead': 536,\n",
       "   'radiant_score': 1,\n",
       "   'dire_score': 0,\n",
       "   'players': [{'account_id': 372801387, 'hero_id': 77},\n",
       "    {'account_id': 101704628, 'hero_id': 71},\n",
       "    {'account_id': 76510612, 'hero_id': 83},\n",
       "    {'account_id': 86698277, 'hero_id': 126},\n",
       "    {'account_id': 906439403, 'hero_id': 110},\n",
       "    {'account_id': 172099728, 'hero_id': 8},\n",
       "    {'account_id': 26316691, 'hero_id': 52},\n",
       "    {'account_id': 369991961, 'hero_id': 3},\n",
       "    {'account_id': 114445601, 'hero_id': 19},\n",
       "    {'account_id': 137855976, 'hero_id': 112}],\n",
       "   'building_state': 4784201,\n",
       "   'custom_game_difficulty': 0},\n",
       "  {'activate_time': 1598185472,\n",
       "   'deactivate_time': 0,\n",
       "   'server_steam_id': 90138171562916866,\n",
       "   'lobby_id': 26810997295342197,\n",
       "   'league_id': 0,\n",
       "   'lobby_type': 7,\n",
       "   'game_time': 490,\n",
       "   'delay': 120,\n",
       "   'spectators': 25,\n",
       "   'game_mode': 22,\n",
       "   'average_mmr': 8408,\n",
       "   'match_id': 5581310851,\n",
       "   'series_id': 0,\n",
       "   'sort_score': 8933,\n",
       "   'last_update_time': 1598186112,\n",
       "   'radiant_lead': 1318,\n",
       "   'radiant_score': 5,\n",
       "   'dire_score': 3,\n",
       "   'players': [{'account_id': 116453423, 'hero_id': 71},\n",
       "    {'account_id': 217472313, 'hero_id': 103},\n",
       "    {'account_id': 116881520, 'hero_id': 67},\n",
       "    {'account_id': 120090915, 'hero_id': 40},\n",
       "    {'account_id': 948589680, 'hero_id': 25},\n",
       "    {'account_id': 907097333, 'hero_id': 91},\n",
       "    {'account_id': 185059559, 'hero_id': 83},\n",
       "    {'account_id': 102076232, 'hero_id': 81},\n",
       "    {'account_id': 177453057, 'hero_id': 110},\n",
       "    {'account_id': 244857272, 'hero_id': 69}],\n",
       "   'building_state': 4784201,\n",
       "   'custom_game_difficulty': 0},\n",
       "  {'activate_time': 1598195968,\n",
       "   'deactivate_time': 0,\n",
       "   'server_steam_id': 90138183504513033,\n",
       "   'lobby_id': 26810997397838332,\n",
       "   'league_id': 0,\n",
       "   'lobby_type': 7,\n",
       "   'game_time': 1040,\n",
       "   'delay': 120,\n",
       "   'spectators': 32,\n",
       "   'game_mode': 22,\n",
       "   'average_mmr': 8308,\n",
       "   'match_id': 5581608035,\n",
       "   'series_id': 0,\n",
       "   'sort_score': 8840,\n",
       "   'last_update_time': 1598197120,\n",
       "   'radiant_lead': -3691,\n",
       "   'radiant_score': 19,\n",
       "   'dire_score': 20,\n",
       "   'players': [{'account_id': 178633570, 'hero_id': 83},\n",
       "    {'account_id': 177453057, 'hero_id': 19},\n",
       "    {'account_id': 163458082, 'hero_id': 25},\n",
       "    {'account_id': 50580004, 'hero_id': 65},\n",
       "    {'account_id': 34519567, 'hero_id': 44},\n",
       "    {'account_id': 114596500, 'hero_id': 23},\n",
       "    {'account_id': 76463297, 'hero_id': 58},\n",
       "    {'account_id': 303099423, 'hero_id': 51},\n",
       "    {'account_id': 147708467, 'hero_id': 55},\n",
       "    {'account_id': 192981126, 'hero_id': 10}],\n",
       "   'building_state': 4849809,\n",
       "   'custom_game_difficulty': 0}]}"
      ]
     },
     "execution_count": 3,
     "metadata": {},
     "output_type": "execute_result"
    }
   ],
   "source": [
    "data = response.json()\n",
    "data\n",
    "\n",
    "# Нажми мышкой на ячейку и запусти ее с помощью комбинации Shift + Enter"
   ]
  },
  {
   "cell_type": "markdown",
   "metadata": {},
   "source": [
    "***\n",
    "Если вылезла страшная табличка с ошибкой, скорее всего ты забыл запустить предыдущую ячейку. Отмотай назад и выполни ее код с помощью Shift + Enter. В противном случае не обращай внимание на это сообщение и двигайся дальше.\n",
    "![title](dota-error-example.png)"
   ]
  },
  {
   "cell_type": "markdown",
   "metadata": {},
   "source": [
    "## Разбираемся со структурой данных\n",
    "Поздравляю! Ты уже близок к успеху. Легко заметить, что внутри переменной `data` лежит куча всего. Давай разбираться. Для этого вспомним, что `data` - [словарь aka dict](https://pythonworld.ru/tipy-dannyx-v-python/slovari-dict-funkcii-i-metody-slovarej.html) и воспользуемся методом `.keys()`, который выведет список ключей."
   ]
  },
  {
   "cell_type": "code",
   "execution_count": 4,
   "metadata": {},
   "outputs": [
    {
     "data": {
      "text/plain": [
       "dict_keys(['game_list'])"
      ]
     },
     "execution_count": 4,
     "metadata": {},
     "output_type": "execute_result"
    }
   ],
   "source": [
    "data.keys()\n",
    "\n",
    "# Нажми мышкой на ячейку и запусти ее с помощью комбинации Shift + Enter"
   ]
  },
  {
   "cell_type": "markdown",
   "metadata": {},
   "source": [
    "Всего один ключ `'game_list'`. Из названия можно предположить, что он содержит список матчей."
   ]
  },
  {
   "cell_type": "code",
   "execution_count": 5,
   "metadata": {},
   "outputs": [
    {
     "data": {
      "text/plain": [
       "(list, 10)"
      ]
     },
     "execution_count": 5,
     "metadata": {},
     "output_type": "execute_result"
    }
   ],
   "source": [
    "type(data['game_list']), len(data['game_list'])\n",
    "\n",
    "# Нажми мышкой на ячейку и запусти ее с помощью комбинации Shift + Enter"
   ]
  },
  {
   "cell_type": "markdown",
   "metadata": {},
   "source": [
    "Действительно, это [список aka list](https://pythonworld.ru/tipy-dannyx-v-python/spiski-list-funkcii-i-metody-spiskov.html) из 10 объектов. На первой странице во вкладке \"Watch\" в клиенте Dota 2 как раз отображается 10 матчей. Положим их в отдельную переменную для удобства работы и рассмотрим подробнее структуру первого матча из списка."
   ]
  },
  {
   "cell_type": "code",
   "execution_count": 6,
   "metadata": {},
   "outputs": [
    {
     "data": {
      "text/plain": [
       "{'activate_time': 1598195840,\n",
       " 'deactivate_time': 0,\n",
       " 'server_steam_id': 90138182880728069,\n",
       " 'lobby_id': 26810997371046725,\n",
       " 'league_id': 12245,\n",
       " 'lobby_type': 1,\n",
       " 'game_time': 741,\n",
       " 'delay': 300,\n",
       " 'spectators': 2564,\n",
       " 'game_mode': 2,\n",
       " 'average_mmr': 0,\n",
       " 'match_id': 5581596841,\n",
       " 'series_id': 474242,\n",
       " 'team_name_radiant': 'Team Liquid',\n",
       " 'team_name_dire': 'Ninjas in Pyjamas',\n",
       " 'team_logo_radiant': 1043092885845384919,\n",
       " 'team_logo_dire': 939457282117079692,\n",
       " 'team_id_radiant': 2163,\n",
       " 'team_id_dire': 6214973,\n",
       " 'sort_score': 10564,\n",
       " 'last_update_time': 1598197120,\n",
       " 'radiant_lead': 5116,\n",
       " 'radiant_score': 14,\n",
       " 'dire_score': 5,\n",
       " 'players': [{'account_id': 58513047, 'hero_id': 46},\n",
       "  {'account_id': 126212866, 'hero_id': 108},\n",
       "  {'account_id': 122049498, 'hero_id': 6},\n",
       "  {'account_id': 100317750, 'hero_id': 51},\n",
       "  {'account_id': 90125566, 'hero_id': 20},\n",
       "  {'account_id': 152962063, 'hero_id': 63},\n",
       "  {'account_id': 54580962, 'hero_id': 5},\n",
       "  {'account_id': 77490514, 'hero_id': 96},\n",
       "  {'account_id': 86738694, 'hero_id': 61},\n",
       "  {'account_id': 401792574, 'hero_id': 119}],\n",
       " 'building_state': 5374025,\n",
       " 'custom_game_difficulty': 0}"
      ]
     },
     "execution_count": 6,
     "metadata": {},
     "output_type": "execute_result"
    }
   ],
   "source": [
    "matches = data['game_list']\n",
    "match = matches[0]\n",
    "match\n",
    "\n",
    "# Нажми мышкой на ячейку и запусти ее с помощью комбинации Shift + Enter"
   ]
  },
  {
   "cell_type": "markdown",
   "metadata": {},
   "source": [
    "***\n",
    "`match_id` - идентификатор матча<br>\n",
    "`players` - список участников матча<br>\n",
    "`radiant_score` - кол-во убийств у команды The Radiant<br>\n",
    "`dire_score` - кол-во убийств у команды The Dire<br>\n",
    "..."
   ]
  },
  {
   "cell_type": "markdown",
   "metadata": {},
   "source": [
    "Взглянем чуть подробнее на поле `players`."
   ]
  },
  {
   "cell_type": "code",
   "execution_count": 7,
   "metadata": {},
   "outputs": [
    {
     "data": {
      "text/plain": [
       "(list, 10)"
      ]
     },
     "execution_count": 7,
     "metadata": {},
     "output_type": "execute_result"
    }
   ],
   "source": [
    "type(match['players']), len(match['players'])\n",
    "\n",
    "# Нажми мышкой на ячейку и запусти ее с помощью комбинации Shift + Enter"
   ]
  },
  {
   "cell_type": "markdown",
   "metadata": {},
   "source": [
    "Это снова [list](https://pythonworld.ru/tipy-dannyx-v-python/spiski-list-funkcii-i-metody-spiskov.html) из 10 объектов. Обычно в доту играют 5х5, поэтому каждый из этих 10 объектов - игрок в матче."
   ]
  },
  {
   "cell_type": "code",
   "execution_count": 8,
   "metadata": {},
   "outputs": [
    {
     "data": {
      "text/plain": [
       "[{'account_id': 58513047, 'hero_id': 46},\n",
       " {'account_id': 126212866, 'hero_id': 108},\n",
       " {'account_id': 122049498, 'hero_id': 6},\n",
       " {'account_id': 100317750, 'hero_id': 51},\n",
       " {'account_id': 90125566, 'hero_id': 20},\n",
       " {'account_id': 152962063, 'hero_id': 63},\n",
       " {'account_id': 54580962, 'hero_id': 5},\n",
       " {'account_id': 77490514, 'hero_id': 96},\n",
       " {'account_id': 86738694, 'hero_id': 61},\n",
       " {'account_id': 401792574, 'hero_id': 119}]"
      ]
     },
     "execution_count": 8,
     "metadata": {},
     "output_type": "execute_result"
    }
   ],
   "source": [
    "players = match['players']\n",
    "players\n",
    "\n",
    "# Нажми мышкой на ячейку и запусти ее с помощью комбинации Shift + Enter"
   ]
  },
  {
   "cell_type": "markdown",
   "metadata": {},
   "source": [
    "`account_id` - уникальный идентификатор [игрока в Steam](https://developer.valvesoftware.com/wiki/SteamID)<br>\n",
    "`hero_id` - уникальный идентификатор героя в Dota 2, на котором играет пользователь с данным `account_id`.<br>\n",
    "Рассмотрим последнего игрока."
   ]
  },
  {
   "cell_type": "code",
   "execution_count": 9,
   "metadata": {},
   "outputs": [
    {
     "name": "stdout",
     "output_type": "stream",
     "text": [
      "{'account_id': 401792574, 'hero_id': 119}\n"
     ]
    }
   ],
   "source": [
    "player = players[-1]\n",
    "print(player)\n",
    "\n",
    "# Нажми мышкой на ячейку и запусти ее с помощью комбинации Shift + Enter"
   ]
  },
  {
   "cell_type": "code",
   "execution_count": 10,
   "metadata": {},
   "outputs": [
    {
     "name": "stdout",
     "output_type": "stream",
     "text": [
      "119\n"
     ]
    }
   ],
   "source": [
    "hero_id = player['hero_id']\n",
    "print(hero_id)\n",
    "\n",
    "# Нажми мышкой на ячейку и запусти ее с помощью комбинации Shift + Enter"
   ]
  },
  {
   "cell_type": "markdown",
   "metadata": {},
   "source": [
    "Чтобы понять, что за герой скрывается под этим номером, можно [спросить Google](https://www.google.com/search?q=dota+2+hero+id&oq=dota+2+hero+id&aqs=chrome..69i57j0l2j69i60l3.2413j0j7&sourceid=chrome&ie=UTF-8) или воспользоваться сторонней библиотекой [d2api](https://pypi.org/project/d2api/)."
   ]
  },
  {
   "cell_type": "code",
   "execution_count": 11,
   "metadata": {},
   "outputs": [
    {
     "name": "stdout",
     "output_type": "stream",
     "text": [
      "npc_dota_hero_dark_willow\n"
     ]
    }
   ],
   "source": [
    "from d2api.src.entities import Hero  # Подключаем класс Hero из библиотеки d2api\n",
    "\n",
    "hero = Hero(hero_id)\n",
    "print(hero['hero_name'])\n",
    "\n",
    "# Нажми мышкой на ячейку и запусти ее с помощью комбинации Shift + Enter"
   ]
  },
  {
   "cell_type": "markdown",
   "metadata": {},
   "source": [
    "Если у игрока открыт DOTABUFF, мы даже можем посмотреть на него глазками."
   ]
  },
  {
   "cell_type": "code",
   "execution_count": 12,
   "metadata": {},
   "outputs": [
    {
     "data": {
      "text/html": [
       "<a href=https://www.dotabuff.com/players/401792574 blank=_true>Открыть профиль игрока на DOTABUFF</a>"
      ],
      "text/plain": [
       "<IPython.core.display.HTML object>"
      ]
     },
     "execution_count": 12,
     "metadata": {},
     "output_type": "execute_result"
    }
   ],
   "source": [
    "from IPython.core.display import HTML  # Подключаем модуль HTML для отображения ссылок\n",
    "\n",
    "account_id = player['account_id']\n",
    "dotabuff_profile_url = f'https://www.dotabuff.com/players/{account_id}'\n",
    "HTML(f'<a href={dotabuff_profile_url} blank=_true>Открыть профиль игрока на DOTABUFF</a>')\n",
    "\n",
    "# Нажми мышкой на ячейку и запусти ее с помощью комбинации Shift + Enter"
   ]
  },
  {
   "cell_type": "markdown",
   "metadata": {},
   "source": [
    "# Считаем сколько раз каждый герой встречается"
   ]
  },
  {
   "cell_type": "markdown",
   "metadata": {},
   "source": [
    "В матчах со вкладки \"Watch\", которые мы скачали выше.\n",
    "\n",
    "С данными и их структурой разобрались. Настало время написать алгоритм подсчета популярности персонажей.\n",
    "Идея его очень простая:\n",
    "1. Пройтись по всем матчам\n",
    "2. Выписать всех персонажей, которые в этих матчах присутствовали\n",
    "3. Посчитать сколько раз каждый из персонажей встречался\n",
    "\n",
    "Поможет нам в этом [цикл](https://pythonworld.ru/osnovy/cikly-for-i-while-operatory-break-i-continue-volshebnoe-slovo-else.html) `for`."
   ]
  },
  {
   "cell_type": "code",
   "execution_count": 13,
   "metadata": {},
   "outputs": [
    {
     "data": {
      "text/plain": [
       "['npc_dota_hero_templar_assassin',\n",
       " 'npc_dota_hero_abyssal_underlord',\n",
       " 'npc_dota_hero_drow_ranger',\n",
       " 'npc_dota_hero_rattletrap',\n",
       " 'npc_dota_hero_vengefulspirit',\n",
       " 'npc_dota_hero_weaver',\n",
       " 'npc_dota_hero_crystal_maiden',\n",
       " 'npc_dota_hero_centaur',\n",
       " 'npc_dota_hero_broodmother',\n",
       " 'npc_dota_hero_dark_willow',\n",
       " 'npc_dota_hero_rubick',\n",
       " 'npc_dota_hero_faceless_void',\n",
       " 'npc_dota_hero_arc_warden',\n",
       " 'npc_dota_hero_rattletrap',\n",
       " 'unknown_hero',\n",
       " 'npc_dota_hero_lina',\n",
       " 'npc_dota_hero_ember_spirit',\n",
       " 'npc_dota_hero_phoenix',\n",
       " 'npc_dota_hero_pudge',\n",
       " 'npc_dota_hero_antimage',\n",
       " 'npc_dota_hero_queenofpain',\n",
       " 'npc_dota_hero_magnataur',\n",
       " 'npc_dota_hero_lion',\n",
       " 'npc_dota_hero_phantom_assassin',\n",
       " 'npc_dota_hero_tiny',\n",
       " 'npc_dota_hero_batrider',\n",
       " 'npc_dota_hero_zuus',\n",
       " 'npc_dota_hero_earth_spirit',\n",
       " 'npc_dota_hero_antimage',\n",
       " 'npc_dota_hero_shadow_demon',\n",
       " 'npc_dota_hero_venomancer',\n",
       " 'npc_dota_hero_grimstroke',\n",
       " 'npc_dota_hero_queenofpain',\n",
       " 'npc_dota_hero_rattletrap',\n",
       " 'npc_dota_hero_spectre',\n",
       " 'npc_dota_hero_sand_king',\n",
       " 'npc_dota_hero_kunkka',\n",
       " 'npc_dota_hero_lycan',\n",
       " 'npc_dota_hero_windrunner',\n",
       " 'npc_dota_hero_enchantress',\n",
       " 'unknown_hero',\n",
       " 'unknown_hero',\n",
       " 'unknown_hero',\n",
       " 'unknown_hero',\n",
       " 'unknown_hero',\n",
       " 'unknown_hero',\n",
       " 'unknown_hero',\n",
       " 'unknown_hero',\n",
       " 'unknown_hero',\n",
       " 'unknown_hero',\n",
       " 'npc_dota_hero_windrunner',\n",
       " 'npc_dota_hero_tiny',\n",
       " 'npc_dota_hero_drow_ranger',\n",
       " 'npc_dota_hero_enchantress',\n",
       " 'npc_dota_hero_venomancer',\n",
       " 'npc_dota_hero_mirana',\n",
       " 'npc_dota_hero_queenofpain',\n",
       " 'npc_dota_hero_axe',\n",
       " 'npc_dota_hero_terrorblade',\n",
       " 'npc_dota_hero_grimstroke',\n",
       " 'npc_dota_hero_wisp',\n",
       " 'npc_dota_hero_queenofpain',\n",
       " 'npc_dota_hero_troll_warlord',\n",
       " 'npc_dota_hero_pudge',\n",
       " 'npc_dota_hero_crystal_maiden',\n",
       " 'unknown_hero',\n",
       " 'npc_dota_hero_grimstroke',\n",
       " 'npc_dota_hero_chaos_knight',\n",
       " 'npc_dota_hero_rattletrap',\n",
       " 'npc_dota_hero_phoenix',\n",
       " 'npc_dota_hero_lycan',\n",
       " 'npc_dota_hero_spirit_breaker',\n",
       " 'npc_dota_hero_treant',\n",
       " 'unknown_hero',\n",
       " 'npc_dota_hero_phoenix',\n",
       " 'npc_dota_hero_juggernaut',\n",
       " 'npc_dota_hero_leshrac',\n",
       " 'npc_dota_hero_bane',\n",
       " 'npc_dota_hero_tiny',\n",
       " 'npc_dota_hero_winter_wyvern',\n",
       " 'npc_dota_hero_spirit_breaker',\n",
       " 'npc_dota_hero_elder_titan',\n",
       " 'npc_dota_hero_spectre',\n",
       " 'npc_dota_hero_venomancer',\n",
       " 'npc_dota_hero_lina',\n",
       " 'npc_dota_hero_wisp',\n",
       " 'npc_dota_hero_treant',\n",
       " 'npc_dota_hero_chaos_knight',\n",
       " 'npc_dota_hero_phoenix',\n",
       " 'npc_dota_hero_doom_bringer',\n",
       " 'npc_dota_hero_treant',\n",
       " 'npc_dota_hero_tiny',\n",
       " 'npc_dota_hero_lina',\n",
       " 'npc_dota_hero_batrider',\n",
       " 'npc_dota_hero_phantom_assassin',\n",
       " 'npc_dota_hero_kunkka',\n",
       " 'npc_dota_hero_enchantress',\n",
       " 'npc_dota_hero_rattletrap',\n",
       " 'npc_dota_hero_dark_seer',\n",
       " 'npc_dota_hero_morphling']"
      ]
     },
     "execution_count": 13,
     "metadata": {},
     "output_type": "execute_result"
    }
   ],
   "source": [
    "heroes = []  # Список героев, встретившихся в матчах. Он пустой, а значит его надо заполнить :)\n",
    "for match in matches:  # Для каждого матча из списка matches\n",
    "    for player in match['players']:  # Для каждого игрока из матча\n",
    "        hero_id = player['hero_id']  # Получаем hero_id\n",
    "        hero_name = Hero(hero_id)['hero_name']  # Конвертируем hero_id в hero_name\n",
    "        heroes.append(hero_name)  # Добавляем в список имя героя, которого использует игрок\n",
    "heroes  # Выводим список героев на экран\n",
    "\n",
    "# Нажми мышкой на ячейку и запусти ее с помощью комбинации Shift + Enter"
   ]
  },
  {
   "cell_type": "markdown",
   "metadata": {},
   "source": [
    "10 матчей, в каждом матче 10 игроков. В итоге мы распечатали на экран 100 значений `hero_name`. Если игрок еще не пикнул героя, то в список попадает значение `'unknown_hero'`. \n",
    "\n",
    "***\n",
    "\n",
    "Уже неплохо, но нам нужно знать популярность каждого из персонажей. Для этого сделаем небольшое отвлечение и рассмотрим искусственный пример. Как посчитать количество вхождений элементов в список? В этом нам помогут [условные операторы](https://devpractice.ru/python-lesson-5-if-while-for-operators/)."
   ]
  },
  {
   "cell_type": "code",
   "execution_count": 14,
   "metadata": {},
   "outputs": [
    {
     "name": "stdout",
     "output_type": "stream",
     "text": [
      "Список произвольных значений:  ['a', 'a', 'a', 43, 'a', 'ты пидор', 43, 'a', 'a']\n",
      "\n",
      "Популярность значений в списке: {'a': 6, 43: 2, 'ты пидор': 1}\n"
     ]
    }
   ],
   "source": [
    "random_list = ['a', 'a', 'a', 43, 'a', 'ты пидор', 43, 'a', 'a']  # Берем произвольный список\n",
    "counter = {}  # Заводим словарь, который будет выступать в качестве счетчика элементов списка\n",
    "\n",
    "for element in random_list:  # Для каждого элемента в списке\n",
    "    if element not in counter:  # Если в словаре counter нет ключей равных element\n",
    "        counter[element] = 1  # Создаем в словаре ключ element со значением 1 (элемент встретился первый раз)\n",
    "    else:\n",
    "        counter[element] = counter[element] + 1  # Если же в словаре counter есть ключ elemnt,\n",
    "                                                 # то увеличиваем его значение на 1\n",
    "print('Список произвольных значений: ', random_list)\n",
    "print('\\nПопулярность значений в списке:', counter)\n",
    "\n",
    "# Нажми мышкой на ячейку и запусти ее с помощью комбинации Shift + Enter"
   ]
  },
  {
   "cell_type": "markdown",
   "metadata": {},
   "source": [
    "***\n",
    "Видно, что код в предыдущей ячейке является универсальным. Можно заменить `random_list` на любой другой список и получить популярность его элементов. Чтобы избежать дублирования, такие участки кода обычно выносятся в [функции](https://www.google.com/search?q=%D1%84%D1%83%D0%BD%D0%BA%D1%86%D0%B8%D0%B8+python&oq=%D1%84%D1%83%D0%BD%D0%BA%D1%86%D0%B8%D0%B8+python&aqs=chrome.0.69i59j0l3j69i60l2.5309j0j7&sourceid=chrome&ie=UTF-8)."
   ]
  },
  {
   "cell_type": "code",
   "execution_count": 15,
   "metadata": {},
   "outputs": [],
   "source": [
    "def list_elements_counter(lst):  # Объявляем функцию list_elements_counter, которая на вход принимает lst - список\n",
    "    counter = {}  # Заводим словарь, который будет выступать в качестве счетчика элементов списка\n",
    "    for element in lst:  # Для каждого элемента в списке lst\n",
    "        if element not in counter:  # Если в словаре counter нет ключей равных element\n",
    "            counter[element] = 1  # Создаем в словаре ключ element со значением 1 (элемент встретился первый раз)\n",
    "        else:\n",
    "            counter[element] += 1  # Если же в словаре counter есть ключ elemnt,\n",
    "                                   # то увеличиваем его значение на 1 (a += 1 это то же самое, что a = a + 1)\n",
    "    return counter  # Возвращаем счетчик элементов\n",
    "\n",
    "# Нажми мышкой на ячейку и запусти ее с помощью комбинации Shift + Enter"
   ]
  },
  {
   "cell_type": "markdown",
   "metadata": {},
   "source": [
    "Проверяем работоспособность функции `list_elements_counter`"
   ]
  },
  {
   "cell_type": "code",
   "execution_count": 16,
   "metadata": {},
   "outputs": [
    {
     "data": {
      "text/plain": [
       "{'a': 6, 43: 2, 'ты пидор': 1}"
      ]
     },
     "execution_count": 16,
     "metadata": {},
     "output_type": "execute_result"
    }
   ],
   "source": [
    "list_elements_counter(random_list)\n",
    "\n",
    "# Нажми мышкой на ячейку и запусти ее с помощью комбинации Shift + Enter"
   ]
  },
  {
   "cell_type": "markdown",
   "metadata": {},
   "source": [
    "Возвращаемся к исходной задаче - определить популярность каждого из персонажей. Для этого заменяем искусственный `random_list` на `heroes`."
   ]
  },
  {
   "cell_type": "code",
   "execution_count": 17,
   "metadata": {},
   "outputs": [
    {
     "data": {
      "text/plain": [
       "{'npc_dota_hero_templar_assassin': 1,\n",
       " 'npc_dota_hero_abyssal_underlord': 1,\n",
       " 'npc_dota_hero_drow_ranger': 2,\n",
       " 'npc_dota_hero_rattletrap': 5,\n",
       " 'npc_dota_hero_vengefulspirit': 1,\n",
       " 'npc_dota_hero_weaver': 1,\n",
       " 'npc_dota_hero_crystal_maiden': 2,\n",
       " 'npc_dota_hero_centaur': 1,\n",
       " 'npc_dota_hero_broodmother': 1,\n",
       " 'npc_dota_hero_dark_willow': 1,\n",
       " 'npc_dota_hero_rubick': 1,\n",
       " 'npc_dota_hero_faceless_void': 1,\n",
       " 'npc_dota_hero_arc_warden': 1,\n",
       " 'unknown_hero': 13,\n",
       " 'npc_dota_hero_lina': 3,\n",
       " 'npc_dota_hero_ember_spirit': 1,\n",
       " 'npc_dota_hero_phoenix': 4,\n",
       " 'npc_dota_hero_pudge': 2,\n",
       " 'npc_dota_hero_antimage': 2,\n",
       " 'npc_dota_hero_queenofpain': 4,\n",
       " 'npc_dota_hero_magnataur': 1,\n",
       " 'npc_dota_hero_lion': 1,\n",
       " 'npc_dota_hero_phantom_assassin': 2,\n",
       " 'npc_dota_hero_tiny': 4,\n",
       " 'npc_dota_hero_batrider': 2,\n",
       " 'npc_dota_hero_zuus': 1,\n",
       " 'npc_dota_hero_earth_spirit': 1,\n",
       " 'npc_dota_hero_shadow_demon': 1,\n",
       " 'npc_dota_hero_venomancer': 3,\n",
       " 'npc_dota_hero_grimstroke': 3,\n",
       " 'npc_dota_hero_spectre': 2,\n",
       " 'npc_dota_hero_sand_king': 1,\n",
       " 'npc_dota_hero_kunkka': 2,\n",
       " 'npc_dota_hero_lycan': 2,\n",
       " 'npc_dota_hero_windrunner': 2,\n",
       " 'npc_dota_hero_enchantress': 3,\n",
       " 'npc_dota_hero_mirana': 1,\n",
       " 'npc_dota_hero_axe': 1,\n",
       " 'npc_dota_hero_terrorblade': 1,\n",
       " 'npc_dota_hero_wisp': 2,\n",
       " 'npc_dota_hero_troll_warlord': 1,\n",
       " 'npc_dota_hero_chaos_knight': 2,\n",
       " 'npc_dota_hero_spirit_breaker': 2,\n",
       " 'npc_dota_hero_treant': 3,\n",
       " 'npc_dota_hero_juggernaut': 1,\n",
       " 'npc_dota_hero_leshrac': 1,\n",
       " 'npc_dota_hero_bane': 1,\n",
       " 'npc_dota_hero_winter_wyvern': 1,\n",
       " 'npc_dota_hero_elder_titan': 1,\n",
       " 'npc_dota_hero_doom_bringer': 1,\n",
       " 'npc_dota_hero_dark_seer': 1,\n",
       " 'npc_dota_hero_morphling': 1}"
      ]
     },
     "execution_count": 17,
     "metadata": {},
     "output_type": "execute_result"
    }
   ],
   "source": [
    "heroes_popularity = list_elements_counter(heroes)\n",
    "heroes_popularity\n",
    "\n",
    "# Нажми мышкой на ячейку и запусти ее с помощью комбинации Shift + Enter"
   ]
  },
  {
   "cell_type": "markdown",
   "metadata": {},
   "source": [
    "Успех! Мы получили [dict aka словарь](https://pythonworld.ru/tipy-dannyx-v-python/slovari-dict-funkcii-i-metody-slovarej.html), где ключи - `hero_name`, а значения - популярность `hero_name` в Top Live Games. Исключим из рассмотрения `'unknown_hero'`, т.е. ситуации, где игрок еще не успел пикнуть героя."
   ]
  },
  {
   "cell_type": "code",
   "execution_count": 18,
   "metadata": {},
   "outputs": [],
   "source": [
    "if 'unknown_hero' in heroes_popularity:\n",
    "    del heroes_popularity['unknown_hero']\n",
    "    \n",
    "# Нажми мышкой на ячейку и запусти ее с помощью комбинации Shift + Enter"
   ]
  },
  {
   "cell_type": "markdown",
   "metadata": {},
   "source": [
    "Теперь наша задача - найти в словаре топ-5 ключей `hero_name` с самым большим значением популярности. Зачастую решение подобного рода задач можно [найти в Google](https://www.google.com/search?newwindow=1&sxsrf=ALeKk03FVt-HUpdMnc1N407ihKsCBd08gg%3A1598116876027&ei=DFRBX9CeAaL2qwH8hrLICA&q=python+sort+dict+by+value&oq=python+sort+dict+&gs_lcp=CgZwc3ktYWIQAxgAMgUIABDLATIFCAAQywEyBQgAEMsBMgUIABDLATIFCAAQywEyBQgAEMsBMgUIABDLATIFCAAQywEyBQgAEMsBMgUIABDLAToHCAAQsAMQQzoHCCMQsAIQJzoECAAQDToECCMQJzoCCAA6BwgjEOoCECc6BwguEOoCECc6CQgjEOoCECcQEzoCCC46BAgAEEM6CAgAEAoQARAqOgYIABAKEAE6CAgAEAoQARBDOgYILhAKEAE6BwgAEBQQhwJQybs6WIzfOmD_6TpoB3AAeACAAXGIAfwOkgEEMjMuMZgBAKABAaoBB2d3cy13aXqwAQrAAQE&sclient=psy-ab). Наша проблема не является уникальной и была описана на [StackOverflow](https://stackoverflow.com/questions/613183/how-do-i-sort-a-dictionary-by-value)."
   ]
  },
  {
   "cell_type": "code",
   "execution_count": 19,
   "metadata": {},
   "outputs": [
    {
     "data": {
      "text/plain": [
       "[('npc_dota_hero_rattletrap', 5),\n",
       " ('npc_dota_hero_phoenix', 4),\n",
       " ('npc_dota_hero_queenofpain', 4),\n",
       " ('npc_dota_hero_tiny', 4),\n",
       " ('npc_dota_hero_lina', 3),\n",
       " ('npc_dota_hero_venomancer', 3),\n",
       " ('npc_dota_hero_grimstroke', 3),\n",
       " ('npc_dota_hero_enchantress', 3),\n",
       " ('npc_dota_hero_treant', 3),\n",
       " ('npc_dota_hero_drow_ranger', 2),\n",
       " ('npc_dota_hero_crystal_maiden', 2),\n",
       " ('npc_dota_hero_pudge', 2),\n",
       " ('npc_dota_hero_antimage', 2),\n",
       " ('npc_dota_hero_phantom_assassin', 2),\n",
       " ('npc_dota_hero_batrider', 2),\n",
       " ('npc_dota_hero_spectre', 2),\n",
       " ('npc_dota_hero_kunkka', 2),\n",
       " ('npc_dota_hero_lycan', 2),\n",
       " ('npc_dota_hero_windrunner', 2),\n",
       " ('npc_dota_hero_wisp', 2),\n",
       " ('npc_dota_hero_chaos_knight', 2),\n",
       " ('npc_dota_hero_spirit_breaker', 2),\n",
       " ('npc_dota_hero_templar_assassin', 1),\n",
       " ('npc_dota_hero_abyssal_underlord', 1),\n",
       " ('npc_dota_hero_vengefulspirit', 1),\n",
       " ('npc_dota_hero_weaver', 1),\n",
       " ('npc_dota_hero_centaur', 1),\n",
       " ('npc_dota_hero_broodmother', 1),\n",
       " ('npc_dota_hero_dark_willow', 1),\n",
       " ('npc_dota_hero_rubick', 1),\n",
       " ('npc_dota_hero_faceless_void', 1),\n",
       " ('npc_dota_hero_arc_warden', 1),\n",
       " ('npc_dota_hero_ember_spirit', 1),\n",
       " ('npc_dota_hero_magnataur', 1),\n",
       " ('npc_dota_hero_lion', 1),\n",
       " ('npc_dota_hero_zuus', 1),\n",
       " ('npc_dota_hero_earth_spirit', 1),\n",
       " ('npc_dota_hero_shadow_demon', 1),\n",
       " ('npc_dota_hero_sand_king', 1),\n",
       " ('npc_dota_hero_mirana', 1),\n",
       " ('npc_dota_hero_axe', 1),\n",
       " ('npc_dota_hero_terrorblade', 1),\n",
       " ('npc_dota_hero_troll_warlord', 1),\n",
       " ('npc_dota_hero_juggernaut', 1),\n",
       " ('npc_dota_hero_leshrac', 1),\n",
       " ('npc_dota_hero_bane', 1),\n",
       " ('npc_dota_hero_winter_wyvern', 1),\n",
       " ('npc_dota_hero_elder_titan', 1),\n",
       " ('npc_dota_hero_doom_bringer', 1),\n",
       " ('npc_dota_hero_dark_seer', 1),\n",
       " ('npc_dota_hero_morphling', 1)]"
      ]
     },
     "execution_count": 19,
     "metadata": {},
     "output_type": "execute_result"
    }
   ],
   "source": [
    "sorted_heroes_popularity = sorted(heroes_popularity.items(), key=lambda item: item[1], reverse=True)\n",
    "sorted_heroes_popularity\n",
    "\n",
    "# Нажми мышкой на ячейку и запусти ее с помощью комбинации Shift + Enter"
   ]
  },
  {
   "cell_type": "markdown",
   "metadata": {},
   "source": [
    "Осталось вывести эту информацию на экран в удобном для чтения виде. В этом нам поможет библиотека [pandas](https://habr.com/ru/company/ods/blog/322626/)."
   ]
  },
  {
   "cell_type": "code",
   "execution_count": 20,
   "metadata": {},
   "outputs": [
    {
     "data": {
      "text/html": [
       "<div>\n",
       "<style scoped>\n",
       "    .dataframe tbody tr th:only-of-type {\n",
       "        vertical-align: middle;\n",
       "    }\n",
       "\n",
       "    .dataframe tbody tr th {\n",
       "        vertical-align: top;\n",
       "    }\n",
       "\n",
       "    .dataframe thead th {\n",
       "        text-align: right;\n",
       "    }\n",
       "</style>\n",
       "<table border=\"1\" class=\"dataframe\">\n",
       "  <thead>\n",
       "    <tr style=\"text-align: right;\">\n",
       "      <th></th>\n",
       "      <th>hero</th>\n",
       "      <th>popularity</th>\n",
       "    </tr>\n",
       "  </thead>\n",
       "  <tbody>\n",
       "    <tr>\n",
       "      <th>0</th>\n",
       "      <td>npc_dota_hero_rattletrap</td>\n",
       "      <td>5</td>\n",
       "    </tr>\n",
       "    <tr>\n",
       "      <th>1</th>\n",
       "      <td>npc_dota_hero_phoenix</td>\n",
       "      <td>4</td>\n",
       "    </tr>\n",
       "    <tr>\n",
       "      <th>2</th>\n",
       "      <td>npc_dota_hero_queenofpain</td>\n",
       "      <td>4</td>\n",
       "    </tr>\n",
       "    <tr>\n",
       "      <th>3</th>\n",
       "      <td>npc_dota_hero_tiny</td>\n",
       "      <td>4</td>\n",
       "    </tr>\n",
       "    <tr>\n",
       "      <th>4</th>\n",
       "      <td>npc_dota_hero_lina</td>\n",
       "      <td>3</td>\n",
       "    </tr>\n",
       "  </tbody>\n",
       "</table>\n",
       "</div>"
      ],
      "text/plain": [
       "                        hero  popularity\n",
       "0   npc_dota_hero_rattletrap           5\n",
       "1      npc_dota_hero_phoenix           4\n",
       "2  npc_dota_hero_queenofpain           4\n",
       "3         npc_dota_hero_tiny           4\n",
       "4         npc_dota_hero_lina           3"
      ]
     },
     "execution_count": 20,
     "metadata": {},
     "output_type": "execute_result"
    }
   ],
   "source": [
    "import pandas as pd  # Подключаем библиотеку для работы с табличными данными\n",
    "\n",
    "top_5_heroes = sorted_heroes_popularity[:5]\n",
    "df_heroes = pd.DataFrame(top_5_heroes, columns=['hero', 'popularity'])\n",
    "df_heroes\n",
    "\n",
    "# Нажми мышкой на ячейку и запусти ее с помощью комбинации Shift + Enter"
   ]
  },
  {
   "cell_type": "markdown",
   "metadata": {},
   "source": [
    "Готово! Мы написали простейший dota picker на Python. Осталось причесать код.\n",
    "Чтобы каждый раз не приходилось запускать всю предыдущую последовательность ячеек, напишем функцию `simple_picker()`."
   ]
  },
  {
   "cell_type": "code",
   "execution_count": 21,
   "metadata": {},
   "outputs": [
    {
     "data": {
      "text/html": [
       "<div>\n",
       "<style scoped>\n",
       "    .dataframe tbody tr th:only-of-type {\n",
       "        vertical-align: middle;\n",
       "    }\n",
       "\n",
       "    .dataframe tbody tr th {\n",
       "        vertical-align: top;\n",
       "    }\n",
       "\n",
       "    .dataframe thead th {\n",
       "        text-align: right;\n",
       "    }\n",
       "</style>\n",
       "<table border=\"1\" class=\"dataframe\">\n",
       "  <thead>\n",
       "    <tr style=\"text-align: right;\">\n",
       "      <th></th>\n",
       "      <th>hero</th>\n",
       "      <th>popularity</th>\n",
       "    </tr>\n",
       "  </thead>\n",
       "  <tbody>\n",
       "    <tr>\n",
       "      <th>0</th>\n",
       "      <td>npc_dota_hero_rattletrap</td>\n",
       "      <td>5</td>\n",
       "    </tr>\n",
       "    <tr>\n",
       "      <th>1</th>\n",
       "      <td>npc_dota_hero_phoenix</td>\n",
       "      <td>4</td>\n",
       "    </tr>\n",
       "    <tr>\n",
       "      <th>2</th>\n",
       "      <td>npc_dota_hero_queenofpain</td>\n",
       "      <td>4</td>\n",
       "    </tr>\n",
       "    <tr>\n",
       "      <th>3</th>\n",
       "      <td>npc_dota_hero_tiny</td>\n",
       "      <td>4</td>\n",
       "    </tr>\n",
       "    <tr>\n",
       "      <th>4</th>\n",
       "      <td>npc_dota_hero_lina</td>\n",
       "      <td>3</td>\n",
       "    </tr>\n",
       "  </tbody>\n",
       "</table>\n",
       "</div>"
      ],
      "text/plain": [
       "                        hero  popularity\n",
       "0   npc_dota_hero_rattletrap           5\n",
       "1      npc_dota_hero_phoenix           4\n",
       "2  npc_dota_hero_queenofpain           4\n",
       "3         npc_dota_hero_tiny           4\n",
       "4         npc_dota_hero_lina           3"
      ]
     },
     "execution_count": 21,
     "metadata": {},
     "output_type": "execute_result"
    }
   ],
   "source": [
    "import requests  # Подключаем модуль для работы с http\n",
    "\n",
    "import pandas as pd  # Подключаем библиотеку для работы с табличными данными\n",
    "from d2api.src.entities import Hero  # Подключаем класс Hero из библиотеки d2api\n",
    "\n",
    "\n",
    "def list_elements_counter(lst):  # Объявляем функцию list_elements_counter, которая на вход принимает lst - список\n",
    "    counter = {}  # Заводим словарь, который будет выступать в качестве счетчика элементов списка\n",
    "    for element in lst:  # Для каждого элемента в списке lst\n",
    "        if element not in counter:  # Если в словаре counter нет ключей равных element\n",
    "            counter[element] = 1  # Создаем в словаре ключ element со значением 1 (элемент встретился первый раз)\n",
    "        else:\n",
    "            counter[element] += 1  # Если же в словаре counter есть ключ elemnt,\n",
    "                                   # то увеличиваем его значение на 1 (a += 1 это то же самое, что a = a + 1)\n",
    "    return counter  # Возвращаем счетчик элементов\n",
    "\n",
    "\n",
    "def simple_picker():\n",
    "    root_url = 'https://api.steampowered.com'  # Переменная с адресом сервера в интернете\n",
    "    live_matches_endpoint = '/IDOTA2Match_570/GetTopLiveGame/v1/'  # Ручка сервера\n",
    "    url = root_url + live_matches_endpoint  # Формируем ссылку без параметров\n",
    "    api_key = '39B30BB1AB0BE5FBCA5D06EF2D9AF6A0'  # Замени на свой Steam API Key\n",
    "    query_params = {\n",
    "        'key': api_key,\n",
    "        'partner': 0\n",
    "    }\n",
    "    response = requests.get(url, query_params)  # Отправляем GET-запрос к Steam Web API\n",
    "    data = response.json()\n",
    "    matches = data['game_list']\n",
    "    \n",
    "    heroes = []  # Список героев, встретившихся в матчах. Он пустой, а значит его надо заполнить :)\n",
    "    for match in matches:  # Для каждого матча из списка matches\n",
    "        for player in match['players']:  # Для каждого игрока из матча\n",
    "            hero_id = player['hero_id']  # Получаем hero_id\n",
    "            hero_name = Hero(hero_id)['hero_name']  # Конвертируем hero_id в hero_name\n",
    "            heroes.append(hero_name)  # Добавляем в список имя героя, которого использует игрок\n",
    "    \n",
    "    heroes_popularity = list_elements_counter(heroes)\n",
    "    if 'unknown_hero' in heroes_popularity:\n",
    "        del heroes_popularity['unknown_hero']\n",
    "        \n",
    "    sorted_heroes_popularity = sorted(heroes_popularity.items(), key=lambda item: item[1], reverse=True)\n",
    "    top_5_heroes = sorted_heroes_popularity[:5]\n",
    "    df_heroes = pd.DataFrame(top_5_heroes, columns=['hero', 'popularity'])\n",
    "    return df_heroes\n",
    "\n",
    "\n",
    "# Запускаем функцию\n",
    "simple_picker()\n",
    "\n",
    "# Нажми мышкой на ячейку и запусти ее с помощью комбинации Shift + Enter"
   ]
  },
  {
   "cell_type": "markdown",
   "metadata": {},
   "source": [
    "Стоит обратить внимание, что результат работы функции может отлечаться, потому что за то время, пока ты читал статью, во вкладке \"Watch\" начались новые матчи.\n",
    "\n",
    "Теперь ты можешь пользоваться кодом на регулярной основе, достаточно запускать только последнюю ячейку. Также можешь скопировать код из нее в самую первую ячейку, чтобы лишний раз не листать.\n",
    "\n",
    "Если тебе понравилась статья, расскажи об этом на форуме (тут должна быть ссылка):\n",
    "- Какой у тебя опыт программирования?\n",
    "- Что именно понравилось?\n",
    "- Какие были сложности?\n",
    "- Что бы хотел увидеть в будущих статьях?"
   ]
  },
  {
   "cell_type": "markdown",
   "metadata": {},
   "source": [
    "# TODO: Придумать домашнее задание"
   ]
  },
  {
   "cell_type": "code",
   "execution_count": null,
   "metadata": {},
   "outputs": [],
   "source": []
  }
 ],
 "metadata": {
  "kernelspec": {
   "display_name": "Python 3",
   "language": "python",
   "name": "python3"
  },
  "language_info": {
   "codemirror_mode": {
    "name": "ipython",
    "version": 3
   },
   "file_extension": ".py",
   "mimetype": "text/x-python",
   "name": "python",
   "nbconvert_exporter": "python",
   "pygments_lexer": "ipython3",
   "version": "3.8.4"
  }
 },
 "nbformat": 4,
 "nbformat_minor": 4
}
