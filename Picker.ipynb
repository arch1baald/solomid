{
 "cells": [
  {
   "cell_type": "markdown",
   "metadata": {},
   "source": [
    "# Краткое знакомство с интерактивной средой разработки Jupyter\n",
    "\n",
    "Ниже пример кода на Python. Выполни содержимое ячейки. Для этого кликни на нее мышкой и используй сочетание клавиш <br>\n",
    "Shift + Enter."
   ]
  },
  {
   "cell_type": "code",
   "execution_count": null,
   "metadata": {},
   "outputs": [],
   "source": [
    "name = 'Вован'\n",
    "age = 18\n",
    "print('Hello, World! Меня зовут', name + ',', 'мне', age)\n",
    "\n",
    "# Нажми мышкой на ячейку и запусти ее с помощью комбинации Shift + Enter"
   ]
  },
  {
   "cell_type": "markdown",
   "metadata": {},
   "source": [
    "<br>\n",
    "\n",
    "Поздравляю! Результатом выполнения кода стала фраза под ячейкой <br>\n",
    "`Hello, World! Меня зовут Вован, мне 18`\n",
    "\n",
    "Далее будем считать, что ты понял как работать с Jupyter, с деталями можешь ознакомиться позже [здесь](http://math-hse.info/f/2018-19/py-polit/instruction_JN.pdf).\n",
    "<br>\n",
    "<br>\n",
    "\n",
    "***"
   ]
  },
  {
   "cell_type": "markdown",
   "metadata": {},
   "source": [
    "# Скачиваем 10 топовых онлайн матчей с вкладки \"Watch\"\n",
    "## Запрашиваем данные\n",
    "Чтобы получить доступ к информации о live-матчах, достаточно перейти по ссылке:\n",
    "\n",
    "https://api.steampowered.com/IDOTA2Match_570/GetTopLiveGame/v1/?key=0151AD3CCB9F86DED7B1B7A9EF078A6F&partner=0\n",
    "\n",
    "Если ты действительно на нее нажал, то скорее всего увидел кучу букав, нихуя не понял и закрыл вкладку. Давай разбираться. Когда ты открыл ссылку в браузере, произошел запрос к [Steam Web API](https://dev.dota2.com/showthread.php?t=47115). В ответ на этот запрос сервер вернул данные о live-матчах в формате [JSON](https://medium.com/@stasonmars/%D0%B2%D0%B2%D0%B5%D0%B4%D0%B5%D0%BD%D0%B8%D0%B5-%D0%B2-json-c798d2723107). То же самое происходит, когда нажимаешь вкладку \"Watch\" в Dota 2. Только там данные отображаются симпатичнее.\n",
    "\n",
    "![title](dota-watch-tab.png)\n",
    "<br>\n",
    "<br>\n",
    "<br>\n",
    "\n",
    "Немного деталей [Steam Web API](https://dev.dota2.com/showthread.php?t=47115):\n",
    "- https://api.steampower.com - корневой URL. Фактически это адрес сервера в интернете<br>\n",
    "- /IDOTA2Match_570/GetTopLiveGame/v1/ - endpoint. Так называемая \"ручка\" сервера. Дергая ее, мы получаем данные по Top Live Games<br>\n",
    "- ? - все, что идет после знака вопроса - параметры запроса\n",
    "- key=0151AD3CCB9F86DED7B1B7A9EF078A6F - API ключ - идентификатор клиента, делающего запрос. Если ты будешь постоянно использовать ключ из примера, могут возникнуть проблемы с доступом к данным. Свой ключ ты можешь получить [здесь](https://steamcommunity.com/dev/apikey).\n",
    "- & - синоним союза \"и\"\n",
    "- partner=0 - техническое поле, которое требует Steam API. Хз какой в нем заложен смысл, но без него запрос сломается."
   ]
  },
  {
   "cell_type": "code",
   "execution_count": null,
   "metadata": {},
   "outputs": [],
   "source": [
    "import requests  # Подключаем модуль для работы с http\n",
    "\n",
    "root_url = 'https://api.steampowered.com'  # Переменная с адресом сервера в интернете\n",
    "live_matches_endpoint = '/IDOTA2Match_570/GetTopLiveGame/v1/'  # Ручка сервера\n",
    "url = root_url + live_matches_endpoint  # Формируем ссылку без параметров\n",
    "api_key = '39B30BB1AB0BE5FBCA5D06EF2D9AF6A0'  # Замени на свой Steam API Key\n",
    "\n",
    "# Словарь (dict, ассоциативный массив) с параметрами запроса \n",
    "# Ссылки с подробностями про словари будут ниже\n",
    "query_params = {\n",
    "    'key': api_key,\n",
    "    'partner': 0\n",
    "}\n",
    "\n",
    "response = requests.get(url, query_params)  # Отправляем GET-запрос к Steam Web API\n",
    "print(response)  # Выводим значение переменной\n",
    "\n",
    "# Нажми мышкой на ячейку и запусти ее с помощью комбинации Shift + Enter"
   ]
  },
  {
   "cell_type": "markdown",
   "metadata": {},
   "source": [
    "Основная магия происходит в строчке `response = requests.get(url, query_params)`. Python с помощью модуля `requests` отправляет запрос по на указанный адрес с заданными параметрами. Ответ сервера сохраняется в переменную `response`. Код 200 означает, что все хорошо, запрос правильно составлен и сервер вернул ответ. [Какие еще бывают коды ответов сервера](https://ru.wikipedia.org/wiki/Список_кодов_состояния_HTTP). Чтобы вывести содержимое ответа `response`, можно использовать метод `.json()`, который распарсит [JSON](https://medium.com/@stasonmars/%D0%B2%D0%B2%D0%B5%D0%B4%D0%B5%D0%BD%D0%B8%D0%B5-%D0%B2-json-c798d2723107) и вернет словарь - Python-объект типа [dict](https://pythonworld.ru/tipy-dannyx-v-python/slovari-dict-funkcii-i-metody-slovarej.html)."
   ]
  },
  {
   "cell_type": "code",
   "execution_count": null,
   "metadata": {},
   "outputs": [],
   "source": [
    "data = response.json()\n",
    "data\n",
    "\n",
    "# Нажми мышкой на ячейку и запусти ее с помощью комбинации Shift + Enter"
   ]
  },
  {
   "cell_type": "markdown",
   "metadata": {},
   "source": [
    "***\n",
    "Если вылезла страшная табличка с ошибкой, скорее всего ты забыл запустить предыдущую ячейку. Отмотай назад и выполни ее код с помощью Shift + Enter. В противном случае не обращай внимание на это сообщение и двигайся дальше.\n",
    "![title](dota-error-example.png)"
   ]
  },
  {
   "cell_type": "markdown",
   "metadata": {},
   "source": [
    "## Разбираемся со структурой данных\n",
    "Поздравляю! Ты уже близок к успеху. Легко заметить, что внутри переменной `data` лежит куча всего. Давай разбираться. Для этого вспомним, что `data` - [словарь aka dict](https://pythonworld.ru/tipy-dannyx-v-python/slovari-dict-funkcii-i-metody-slovarej.html) и воспользуемся методом `.keys()`, который выведет список ключей."
   ]
  },
  {
   "cell_type": "code",
   "execution_count": null,
   "metadata": {},
   "outputs": [],
   "source": [
    "data.keys()\n",
    "\n",
    "# Нажми мышкой на ячейку и запусти ее с помощью комбинации Shift + Enter"
   ]
  },
  {
   "cell_type": "markdown",
   "metadata": {},
   "source": [
    "Всего один ключ `'game_list'`. Из названия можно предположить, что он содержит список матчей."
   ]
  },
  {
   "cell_type": "code",
   "execution_count": null,
   "metadata": {},
   "outputs": [],
   "source": [
    "type(data['game_list']), len(data['game_list'])\n",
    "\n",
    "# Нажми мышкой на ячейку и запусти ее с помощью комбинации Shift + Enter"
   ]
  },
  {
   "cell_type": "markdown",
   "metadata": {},
   "source": [
    "Действительно, это [список aka list](https://pythonworld.ru/tipy-dannyx-v-python/spiski-list-funkcii-i-metody-spiskov.html) из 10 объектов. На первой странице во вкладке \"Watch\" в клиенте Dota 2 как раз отображается 10 матчей. Положим их в отдельную переменную для удобства работы и рассмотрим подробнее структуру первого матча из списка."
   ]
  },
  {
   "cell_type": "code",
   "execution_count": null,
   "metadata": {},
   "outputs": [],
   "source": [
    "matches = data['game_list']\n",
    "match = matches[0]\n",
    "match\n",
    "\n",
    "# Нажми мышкой на ячейку и запусти ее с помощью комбинации Shift + Enter"
   ]
  },
  {
   "cell_type": "markdown",
   "metadata": {},
   "source": [
    "***\n",
    "`match_id` - идентификатор матча<br>\n",
    "`players` - список участников матча<br>\n",
    "`radiant_score` - кол-во убийств у команды The Radiant<br>\n",
    "`dire_score` - кол-во убийств у команды The Dire<br>\n",
    "..."
   ]
  },
  {
   "cell_type": "markdown",
   "metadata": {},
   "source": [
    "Взглянем чуть подробнее на поле `players`."
   ]
  },
  {
   "cell_type": "code",
   "execution_count": null,
   "metadata": {},
   "outputs": [],
   "source": [
    "type(match['players']), len(match['players'])\n",
    "\n",
    "# Нажми мышкой на ячейку и запусти ее с помощью комбинации Shift + Enter"
   ]
  },
  {
   "cell_type": "markdown",
   "metadata": {},
   "source": [
    "Это снова [list](https://pythonworld.ru/tipy-dannyx-v-python/spiski-list-funkcii-i-metody-spiskov.html) из 10 объектов. Обычно в доту играют 5х5, поэтому каждый из этих 10 объектов - игрок в матче."
   ]
  },
  {
   "cell_type": "code",
   "execution_count": null,
   "metadata": {},
   "outputs": [],
   "source": [
    "players = match['players']\n",
    "players\n",
    "\n",
    "# Нажми мышкой на ячейку и запусти ее с помощью комбинации Shift + Enter"
   ]
  },
  {
   "cell_type": "markdown",
   "metadata": {},
   "source": [
    "`account_id` - уникальный идентификатор [игрока в Steam](https://developer.valvesoftware.com/wiki/SteamID)<br>\n",
    "`hero_id` - уникальный идентификатор героя в Dota 2, на котором играет пользователь с данным `account_id`.<br>\n",
    "Рассмотрим последнего игрока."
   ]
  },
  {
   "cell_type": "code",
   "execution_count": null,
   "metadata": {},
   "outputs": [],
   "source": [
    "player = players[-1]\n",
    "print(player)\n",
    "\n",
    "# Нажми мышкой на ячейку и запусти ее с помощью комбинации Shift + Enter"
   ]
  },
  {
   "cell_type": "code",
   "execution_count": null,
   "metadata": {},
   "outputs": [],
   "source": [
    "hero_id = player['hero_id']\n",
    "print(hero_id)\n",
    "\n",
    "# Нажми мышкой на ячейку и запусти ее с помощью комбинации Shift + Enter"
   ]
  },
  {
   "cell_type": "markdown",
   "metadata": {},
   "source": [
    "Чтобы понять, что за герой скрывается под этим номером, можно [спросить Google](https://www.google.com/search?q=dota+2+hero+id&oq=dota+2+hero+id&aqs=chrome..69i57j0l2j69i60l3.2413j0j7&sourceid=chrome&ie=UTF-8) или воспользоваться сторонней библиотекой [d2api](https://pypi.org/project/d2api/)."
   ]
  },
  {
   "cell_type": "code",
   "execution_count": null,
   "metadata": {},
   "outputs": [],
   "source": [
    "from d2api.src.entities import Hero  # Подключаем класс Hero из библиотеки d2api\n",
    "\n",
    "hero = Hero(hero_id)\n",
    "print(hero['hero_name'])\n",
    "\n",
    "# Нажми мышкой на ячейку и запусти ее с помощью комбинации Shift + Enter"
   ]
  },
  {
   "cell_type": "markdown",
   "metadata": {},
   "source": [
    "Если у игрока открыт DOTABUFF, мы даже можем посмотреть на него глазками."
   ]
  },
  {
   "cell_type": "code",
   "execution_count": null,
   "metadata": {},
   "outputs": [],
   "source": [
    "from IPython.core.display import HTML  # Подключаем модуль HTML для отображения ссылок\n",
    "\n",
    "account_id = player['account_id']\n",
    "dotabuff_profile_url = f'https://www.dotabuff.com/players/{account_id}'\n",
    "HTML(f'<a href={dotabuff_profile_url} blank=_true>Открыть профиль игрока на DOTABUFF</a>')\n",
    "\n",
    "# Нажми мышкой на ячейку и запусти ее с помощью комбинации Shift + Enter"
   ]
  },
  {
   "cell_type": "markdown",
   "metadata": {},
   "source": [
    "# Считаем сколько раз каждый герой встречается"
   ]
  },
  {
   "cell_type": "markdown",
   "metadata": {},
   "source": [
    "В матчах со вкладки \"Watch\", которые мы скачали выше.\n",
    "\n",
    "С данными и их структурой разобрались. Настало время написать алгоритм подсчета популярности персонажей.\n",
    "Идея его очень простая:\n",
    "1. Пройтись по всем матчам\n",
    "2. Выписать всех персонажей, которые в этих матчах присутствовали\n",
    "3. Посчитать сколько раз каждый из персонажей встречался\n",
    "\n",
    "Поможет нам в этом [цикл](https://pythonworld.ru/osnovy/cikly-for-i-while-operatory-break-i-continue-volshebnoe-slovo-else.html) `for`."
   ]
  },
  {
   "cell_type": "code",
   "execution_count": null,
   "metadata": {},
   "outputs": [],
   "source": [
    "heroes = []  # Список героев, встретившихся в матчах. Он пустой, а значит его надо заполнить :)\n",
    "for match in matches:  # Для каждого матча из списка matches\n",
    "    for player in match['players']:  # Для каждого игрока из матча\n",
    "        hero_id = player['hero_id']  # Получаем hero_id\n",
    "        hero_name = Hero(hero_id)['hero_name']  # Конвертируем hero_id в hero_name\n",
    "        heroes.append(hero_name)  # Добавляем в список имя героя, которого использует игрок\n",
    "heroes  # Выводим список героев на экран\n",
    "\n",
    "# Нажми мышкой на ячейку и запусти ее с помощью комбинации Shift + Enter"
   ]
  },
  {
   "cell_type": "markdown",
   "metadata": {},
   "source": [
    "10 матчей, в каждом матче 10 игроков. В итоге мы распечатали на экран 100 значений `hero_name`. Если игрок еще не пикнул героя, то в список попадает значение `'unknown_hero'`. \n",
    "\n",
    "***\n",
    "\n",
    "Уже неплохо, но нам нужно знать популярность каждого из персонажей. Для этого сделаем небольшое отвлечение и рассмотрим искусственный пример. Как посчитать количество вхождений элементов в список? В этом нам помогут [условные операторы](https://devpractice.ru/python-lesson-5-if-while-for-operators/)."
   ]
  },
  {
   "cell_type": "code",
   "execution_count": null,
   "metadata": {},
   "outputs": [],
   "source": [
    "random_list = ['a', 'a', 'a', 43, 'a', 'ты пидор', 43, 'a', 'a']  # Берем произвольный список\n",
    "counter = {}  # Заводим словарь, который будет выступать в качестве счетчика элементов списка\n",
    "\n",
    "for element in random_list:  # Для каждого элемента в списке\n",
    "    if element not in counter:  # Если в словаре counter нет ключей равных element\n",
    "        counter[element] = 1  # Создаем в словаре ключ element со значением 1 (элемент встретился первый раз)\n",
    "    else:\n",
    "        counter[element] = counter[element] + 1  # Если же в словаре counter есть ключ elemnt,\n",
    "                                                 # то увеличиваем его значение на 1\n",
    "print('Список произвольных значений: ', random_list)\n",
    "print('\\nПопулярность значений в списке:', counter)\n",
    "\n",
    "# Нажми мышкой на ячейку и запусти ее с помощью комбинации Shift + Enter"
   ]
  },
  {
   "cell_type": "markdown",
   "metadata": {},
   "source": [
    "***\n",
    "Видно, что код в предыдущей ячейке является универсальным. Можно заменить `random_list` на любой другой список и получить популярность его элементов. Чтобы избежать дублирования, такие участки кода обычно выносятся в [функции](https://www.google.com/search?q=%D1%84%D1%83%D0%BD%D0%BA%D1%86%D0%B8%D0%B8+python&oq=%D1%84%D1%83%D0%BD%D0%BA%D1%86%D0%B8%D0%B8+python&aqs=chrome.0.69i59j0l3j69i60l2.5309j0j7&sourceid=chrome&ie=UTF-8)."
   ]
  },
  {
   "cell_type": "code",
   "execution_count": null,
   "metadata": {},
   "outputs": [],
   "source": [
    "def list_elements_counter(lst):  # Объявляем функцию list_elements_counter, которая на вход принимает lst - список\n",
    "    counter = {}  # Заводим словарь, который будет выступать в качестве счетчика элементов списка\n",
    "    for element in lst:  # Для каждого элемента в списке lst\n",
    "        if element not in counter:  # Если в словаре counter нет ключей равных element\n",
    "            counter[element] = 1  # Создаем в словаре ключ element со значением 1 (элемент встретился первый раз)\n",
    "        else:\n",
    "            counter[element] += 1  # Если же в словаре counter есть ключ elemnt,\n",
    "                                   # то увеличиваем его значение на 1 (a += 1 это то же самое, что a = a + 1)\n",
    "    return counter  # Возвращаем счетчик элементов\n",
    "\n",
    "# Нажми мышкой на ячейку и запусти ее с помощью комбинации Shift + Enter"
   ]
  },
  {
   "cell_type": "markdown",
   "metadata": {},
   "source": [
    "Проверяем работоспособность функции `list_elements_counter`"
   ]
  },
  {
   "cell_type": "code",
   "execution_count": null,
   "metadata": {},
   "outputs": [],
   "source": [
    "list_elements_counter(random_list)\n",
    "\n",
    "# Нажми мышкой на ячейку и запусти ее с помощью комбинации Shift + Enter"
   ]
  },
  {
   "cell_type": "markdown",
   "metadata": {},
   "source": [
    "Возвращаемся к исходной задаче - определить популярность каждого из персонажей. Для этого заменяем искусственный `random_list` на `heroes`."
   ]
  },
  {
   "cell_type": "code",
   "execution_count": null,
   "metadata": {},
   "outputs": [],
   "source": [
    "heroes_popularity = list_elements_counter(heroes)\n",
    "heroes_popularity\n",
    "\n",
    "# Нажми мышкой на ячейку и запусти ее с помощью комбинации Shift + Enter"
   ]
  },
  {
   "cell_type": "markdown",
   "metadata": {},
   "source": [
    "Успех! Мы получили [dict aka словарь](https://pythonworld.ru/tipy-dannyx-v-python/slovari-dict-funkcii-i-metody-slovarej.html), где ключи - `hero_name`, а значения - популярность `hero_name` в Top Live Games. Исключим из рассмотрения `'unknown_hero'`, т.е. ситуации, где игрок еще не успел пикнуть героя."
   ]
  },
  {
   "cell_type": "code",
   "execution_count": null,
   "metadata": {},
   "outputs": [],
   "source": [
    "if 'unknown_hero' in heroes_popularity:\n",
    "    del heroes_popularity['unknown_hero']\n",
    "    \n",
    "# Нажми мышкой на ячейку и запусти ее с помощью комбинации Shift + Enter"
   ]
  },
  {
   "cell_type": "markdown",
   "metadata": {},
   "source": [
    "# Выбираем топ-5 героев\n",
    "Теперь наша задача - найти в словаре топ-5 ключей `hero_name` с самым большим значением популярности. Зачастую решение подобного рода задач можно [найти в Google](https://www.google.com/search?newwindow=1&sxsrf=ALeKk03FVt-HUpdMnc1N407ihKsCBd08gg%3A1598116876027&ei=DFRBX9CeAaL2qwH8hrLICA&q=python+sort+dict+by+value&oq=python+sort+dict+&gs_lcp=CgZwc3ktYWIQAxgAMgUIABDLATIFCAAQywEyBQgAEMsBMgUIABDLATIFCAAQywEyBQgAEMsBMgUIABDLATIFCAAQywEyBQgAEMsBMgUIABDLAToHCAAQsAMQQzoHCCMQsAIQJzoECAAQDToECCMQJzoCCAA6BwgjEOoCECc6BwguEOoCECc6CQgjEOoCECcQEzoCCC46BAgAEEM6CAgAEAoQARAqOgYIABAKEAE6CAgAEAoQARBDOgYILhAKEAE6BwgAEBQQhwJQybs6WIzfOmD_6TpoB3AAeACAAXGIAfwOkgEEMjMuMZgBAKABAaoBB2d3cy13aXqwAQrAAQE&sclient=psy-ab). Наша проблема не является уникальной и была описана на [StackOverflow](https://stackoverflow.com/questions/613183/how-do-i-sort-a-dictionary-by-value)."
   ]
  },
  {
   "cell_type": "code",
   "execution_count": null,
   "metadata": {},
   "outputs": [],
   "source": [
    "sorted_heroes_popularity = sorted(heroes_popularity.items(), key=lambda item: item[1], reverse=True)\n",
    "sorted_heroes_popularity\n",
    "\n",
    "# Нажми мышкой на ячейку и запусти ее с помощью комбинации Shift + Enter"
   ]
  },
  {
   "cell_type": "markdown",
   "metadata": {},
   "source": [
    "Осталось вывести эту информацию на экран в удобном для чтения виде. В этом нам поможет библиотека [pandas](https://habr.com/ru/company/ods/blog/322626/)."
   ]
  },
  {
   "cell_type": "code",
   "execution_count": null,
   "metadata": {},
   "outputs": [],
   "source": [
    "import pandas as pd  # Подключаем библиотеку для работы с табличными данными\n",
    "\n",
    "top_5_heroes = sorted_heroes_popularity[:5]\n",
    "df_heroes = pd.DataFrame(top_5_heroes, columns=['hero', 'popularity'])\n",
    "df_heroes\n",
    "\n",
    "# Нажми мышкой на ячейку и запусти ее с помощью комбинации Shift + Enter"
   ]
  },
  {
   "cell_type": "markdown",
   "metadata": {},
   "source": [
    "Готово! Мы написали простейший dota picker на Python. Осталось причесать код.\n",
    "Чтобы каждый раз не приходилось запускать всю предыдущую последовательность ячеек, напишем функцию `simple_picker()`."
   ]
  },
  {
   "cell_type": "code",
   "execution_count": null,
   "metadata": {},
   "outputs": [],
   "source": [
    "import requests  # Подключаем модуль для работы с http\n",
    "\n",
    "import pandas as pd  # Подключаем библиотеку для работы с табличными данными\n",
    "from d2api.src.entities import Hero  # Подключаем класс Hero из библиотеки d2api\n",
    "\n",
    "\n",
    "def list_elements_counter(lst):  # Объявляем функцию list_elements_counter, которая на вход принимает lst - список\n",
    "    counter = {}  # Заводим словарь, который будет выступать в качестве счетчика элементов списка\n",
    "    for element in lst:  # Для каждого элемента в списке lst\n",
    "        if element not in counter:  # Если в словаре counter нет ключей равных element\n",
    "            counter[element] = 1  # Создаем в словаре ключ element со значением 1 (элемент встретился первый раз)\n",
    "        else:\n",
    "            counter[element] += 1  # Если же в словаре counter есть ключ elemnt,\n",
    "                                   # то увеличиваем его значение на 1 (a += 1 это то же самое, что a = a + 1)\n",
    "    return counter  # Возвращаем счетчик элементов\n",
    "\n",
    "\n",
    "def simple_picker():\n",
    "    root_url = 'https://api.steampowered.com'  # Переменная с адресом сервера в интернете\n",
    "    live_matches_endpoint = '/IDOTA2Match_570/GetTopLiveGame/v1/'  # Ручка сервера\n",
    "    url = root_url + live_matches_endpoint  # Формируем ссылку без параметров\n",
    "    api_key = '39B30BB1AB0BE5FBCA5D06EF2D9AF6A0'  # Замени на свой Steam API Key\n",
    "    query_params = {\n",
    "        'key': api_key,\n",
    "        'partner': 0\n",
    "    }\n",
    "    response = requests.get(url, query_params)  # Отправляем GET-запрос к Steam Web API\n",
    "    data = response.json()\n",
    "    matches = data['game_list']\n",
    "    \n",
    "    heroes = []  # Список героев, встретившихся в матчах. Он пустой, а значит его надо заполнить :)\n",
    "    for match in matches:  # Для каждого матча из списка matches\n",
    "        for player in match['players']:  # Для каждого игрока из матча\n",
    "            hero_id = player['hero_id']  # Получаем hero_id\n",
    "            hero_name = Hero(hero_id)['hero_name']  # Конвертируем hero_id в hero_name\n",
    "            heroes.append(hero_name)  # Добавляем в список имя героя, которого использует игрок\n",
    "    \n",
    "    heroes_popularity = list_elements_counter(heroes)\n",
    "    if 'unknown_hero' in heroes_popularity:\n",
    "        del heroes_popularity['unknown_hero']\n",
    "        \n",
    "    sorted_heroes_popularity = sorted(heroes_popularity.items(), key=lambda item: item[1], reverse=True)\n",
    "    top_5_heroes = sorted_heroes_popularity[:5]\n",
    "    df_heroes = pd.DataFrame(top_5_heroes, columns=['hero', 'popularity'])\n",
    "    return df_heroes\n",
    "\n",
    "\n",
    "# Запускаем функцию\n",
    "simple_picker()\n",
    "\n",
    "# Нажми мышкой на ячейку и запусти ее с помощью комбинации Shift + Enter"
   ]
  },
  {
   "cell_type": "markdown",
   "metadata": {},
   "source": [
    "Стоит обратить внимание, что результат работы функции может отлечаться, потому что за то время, пока ты читал статью, во вкладке \"Watch\" начались новые матчи.\n",
    "\n",
    "Теперь ты можешь пользоваться кодом на регулярной основе, достаточно запускать только последнюю ячейку. Также можешь скопировать код из нее в самую первую ячейку, чтобы лишний раз не листать.\n",
    "\n",
    "Если тебе понравилась статья, расскажи об этом на форуме (тут должна быть ссылка):\n",
    "- Какой у тебя опыт программирования?\n",
    "- Что именно понравилось / не понравилось?\n",
    "- Какие были сложности (если были)?\n",
    "- Что бы хотел увидеть в будущих статьях?"
   ]
  },
  {
   "cell_type": "markdown",
   "metadata": {},
   "source": [
    "# TODO: Придумать домашнее задание"
   ]
  },
  {
   "cell_type": "code",
   "execution_count": null,
   "metadata": {},
   "outputs": [],
   "source": []
  }
 ],
 "metadata": {
  "kernelspec": {
   "display_name": "Python 3",
   "language": "python",
   "name": "python3"
  },
  "language_info": {
   "codemirror_mode": {
    "name": "ipython",
    "version": 3
   },
   "file_extension": ".py",
   "mimetype": "text/x-python",
   "name": "python",
   "nbconvert_exporter": "python",
   "pygments_lexer": "ipython3",
   "version": "3.8.4"
  }
 },
 "nbformat": 4,
 "nbformat_minor": 4
}
